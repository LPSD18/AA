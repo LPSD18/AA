{
 "cells": [
  {
   "cell_type": "code",
   "execution_count": 211,
   "metadata": {},
   "outputs": [],
   "source": [
    "import numpy as np\n",
    "from matplotlib import pyplot as plt\n",
    "import pickle\n",
    "from sklearn.metrics import confusion_matrix\n",
    "import scipy.linalg as la\n",
    "from sklearn.metrics import mean_squared_error\n",
    "from sklearn.preprocessing import PolynomialFeatures\n",
    "from sklearn.linear_model  import LinearRegression\n",
    "from sklearn.linear_model  import Lasso"
   ]
  },
  {
   "cell_type": "code",
   "execution_count": 212,
   "metadata": {},
   "outputs": [],
   "source": [
    "file = open('A48168_Q001_data.p','rb')\n",
    "D = pickle.load(file)\n",
    "file.close()"
   ]
  },
  {
   "cell_type": "code",
   "execution_count": 213,
   "metadata": {},
   "outputs": [],
   "source": [
    "x = D['X']\n",
    "y = D['y']"
   ]
  },
  {
   "cell_type": "code",
   "execution_count": 214,
   "metadata": {},
   "outputs": [
    {
     "name": "stdout",
     "output_type": "stream",
     "text": [
      "(2, 2281)\n",
      "(2281,)\n"
     ]
    }
   ],
   "source": [
    "print(x.shape)\n",
    "print(y.shape)"
   ]
  },
  {
   "cell_type": "code",
   "execution_count": 215,
   "metadata": {},
   "outputs": [],
   "source": [
    "X = np.vstack((np.ones(x.shape[1]),x))\n",
    "idx = np.argsort(y)\n",
    "y = y[idx]\n",
    "X = X[:,idx]\n",
    "\n",
    "y[y==0]= -1\n"
   ]
  },
  {
   "cell_type": "code",
   "execution_count": 216,
   "metadata": {},
   "outputs": [
    {
     "name": "stdout",
     "output_type": "stream",
     "text": [
      "[[ 531    5]\n",
      " [  89 1656]]\n",
      "O número de erros na classe w0  ́e de 21:  5\n",
      "O numero de acertos na classe w1 é de 1652:  1656\n"
     ]
    }
   ],
   "source": [
    "w = np.array([0.00,0.99,0.15])\n",
    "\n",
    "ye = np.dot(w.T,X)\n",
    "Ye = ye.copy()\n",
    "Ye[ye<0] = -1\n",
    "Ye[ye>0] = 1\n",
    "\n",
    "cm = confusion_matrix(y,Ye)\n",
    "print(cm)\n",
    "print('O número de erros na classe w0  ́e de 21: ', cm[0,1])\n",
    "print('O numero de acertos na classe w1 é de 1652: ',cm[1,1])"
   ]
  },
  {
   "cell_type": "markdown",
   "metadata": {},
   "source": [
    "1 a) IV"
   ]
  },
  {
   "cell_type": "code",
   "execution_count": 217,
   "metadata": {},
   "outputs": [
    {
     "name": "stdout",
     "output_type": "stream",
     "text": [
      "[[ 310  226]\n",
      " [   0 1745]]\n",
      " O vetor que minimiza o erro quadrático médio é wMSE = [1.254, 1.205, -0.923] [0.25374713 0.20829497 0.07654264]\n",
      "O erro quadrático médio é igual a 1.084:  0.4225867831579466\n"
     ]
    }
   ],
   "source": [
    "Rx   = np.dot(X, X.T)\n",
    "rxy  = np.dot(X, y.T)\n",
    "wMSE = np.dot(la.pinv(Rx), rxy)\n",
    "\n",
    "ye = np.dot(wMSE.T, X)\n",
    "Ye = ye.copy()\n",
    "\n",
    "Ye[ye<0]  = -1\n",
    "Ye[ye>=0] =  1\n",
    "\n",
    "CM = confusion_matrix(y, Ye)\n",
    "print(CM)\n",
    "print(' O vetor que minimiza o erro quadrático médio é wMSE = [1.254, 1.205, -0.923]', wMSE)\n",
    "print('O erro quadrático médio é igual a 1.084: ', mean_squared_error(Ye,ye))"
   ]
  },
  {
   "cell_type": "markdown",
   "metadata": {},
   "source": [
    "1b) IV"
   ]
  },
  {
   "cell_type": "code",
   "execution_count": 218,
   "metadata": {},
   "outputs": [],
   "source": [
    "import numpy as np\n",
    "from sklearn.datasets import load_diabetes\n",
    "from sklearn.model_selection import train_test_split\n",
    "from sklearn.preprocessing import PolynomialFeatures\n",
    "from sklearn.linear_model import Lasso, LinearRegression\n",
    "from sklearn.metrics import mean_absolute_error, r2_score\n"
   ]
  },
  {
   "cell_type": "code",
   "execution_count": 219,
   "metadata": {},
   "outputs": [],
   "source": [
    "from sklearn import datasets\n",
    "# Carregar o conjunto \"diabetes\"\n",
    "data = datasets.load_diabetes()\n",
    "X, y = data.data, data.target\n",
    "\n",
    "# Dividir os dados em treino (316 amostras) e teste (restantes)\n",
    "X_train, X_test = X[:316], X[316:]\n",
    "y_train, y_test = y[:316], y[316:]"
   ]
  },
  {
   "cell_type": "code",
   "execution_count": 220,
   "metadata": {},
   "outputs": [
    {
     "name": "stdout",
     "output_type": "stream",
     "text": [
      "Regressão Polinomial de 2ª Ordem:\n",
      "No conjunto de treino, o erro absoluto médio é igual a 37.97: 37.97\n",
      "No conjunto de treino, o coeficiente de determinação, R**2, é igual a 0.79: 0.61\n"
     ]
    }
   ],
   "source": [
    "# Gerar características polinomiais de 2ª ordem\n",
    "poly = PolynomialFeatures(degree=2)\n",
    "X_train_poly = poly.fit_transform(X_train)\n",
    "X_test_poly = poly.transform(X_test)\n",
    "\n",
    "# Instanciar e ajustar um modelo de regressão linear\n",
    "linear_model = LinearRegression()\n",
    "linear_model.fit(X_train_poly, y_train)\n",
    "\n",
    "# Previsões no conjunto de treino\n",
    "y_train_pred = linear_model.predict(X_train_poly)\n",
    "\n",
    "# Calcular métricas no conjunto de treino\n",
    "mae_train = mean_absolute_error(y_train, y_train_pred)\n",
    "r2_train = r2_score(y_train, y_train_pred)\n",
    "\n",
    "print(\"Regressão Polinomial de 2ª Ordem:\")\n",
    "print(f\"No conjunto de treino, o erro absoluto médio é igual a 37.97: {mae_train:.2f}\")\n",
    "print(f\"No conjunto de treino, o coeficiente de determinação, R**2, é igual a 0.79: {r2_train:.2f}\")\n"
   ]
  },
  {
   "cell_type": "markdown",
   "metadata": {},
   "source": [
    "a) I"
   ]
  },
  {
   "cell_type": "code",
   "execution_count": 221,
   "metadata": {},
   "outputs": [
    {
     "name": "stdout",
     "output_type": "stream",
     "text": [
      "\n",
      "Regressão Lasso com Polinômio de 4ª Ordem:\n",
      "No cojunto de teste, o coeficiente de determinação, R**2, é igual a 0.526: 0.526\n",
      "Excluindo w0, o número de coeficientes do polinómio diferentes de zero é 32: 18\n"
     ]
    }
   ],
   "source": [
    "# Gerar características polinomiais de 4ª ordem\n",
    "poly4 = PolynomialFeatures(degree=4)\n",
    "X_train_poly4 = poly4.fit_transform(X_train)\n",
    "X_test_poly4 = poly4.transform(X_test)\n",
    "\n",
    "# Instanciar e ajustar o modelo Lasso\n",
    "lasso_model = Lasso(alpha=0.01, random_state=42)\n",
    "lasso_model.fit(X_train_poly4, y_train)\n",
    "\n",
    "# Previsões no conjunto de teste\n",
    "y_test_pred = lasso_model.predict(X_test_poly4)\n",
    "\n",
    "# Calcular R² no conjunto de teste\n",
    "r2_test = r2_score(y_test, y_test_pred)\n",
    "\n",
    "# Contar os coeficientes diferentes de zero (excluindo w0)\n",
    "coef_count = np.sum(lasso_model.coef_ != 0)\n",
    "\n",
    "print(\"\\nRegressão Lasso com Polinômio de 4ª Ordem:\")\n",
    "print(f\"No cojunto de teste, o coeficiente de determinação, R**2, é igual a 0.526: {r2_test:.3f}\")\n",
    "print(f\"Excluindo w0, o número de coeficientes do polinómio diferentes de zero é 32: {coef_count}\")\n"
   ]
  },
  {
   "cell_type": "markdown",
   "metadata": {},
   "source": [
    "b) I"
   ]
  },
  {
   "cell_type": "code",
   "execution_count": 222,
   "metadata": {},
   "outputs": [],
   "source": [
    "data3 = pickle.load(open('A48168_Q003_data.p','rb'))\n",
    "x = data3['x']\n",
    "y = data3['y']\n",
    "folds = data3['folds']"
   ]
  },
  {
   "cell_type": "code",
   "execution_count": 223,
   "metadata": {},
   "outputs": [
    {
     "name": "stdout",
     "output_type": "stream",
     "text": [
      "(318,)\n",
      "(318,)\n",
      "(128,)\n",
      "(190,)\n"
     ]
    }
   ],
   "source": [
    "print(x.shape)\n",
    "print(y.shape)\n",
    "trainX = x[folds==1]\n",
    "trainY = y[folds==1]\n",
    "testX = x[folds==0]\n",
    "testY = y[folds==0]\n",
    "print(trainX.shape)\n",
    "print(testX.shape)\n"
   ]
  },
  {
   "cell_type": "code",
   "execution_count": 224,
   "metadata": {},
   "outputs": [
    {
     "name": "stdout",
     "output_type": "stream",
     "text": [
      "No conjunto de teste o erro quadrático médio é igual a 0.91: 0.81\n",
      "No conjunto de treino, o coeficiente de determinação, R**2, é igual a 0.78: 0.78\n"
     ]
    }
   ],
   "source": [
    "X1 = trainX[:,np.newaxis]\n",
    "X2 = testX[:,np.newaxis]\n",
    "\n",
    "poly = PolynomialFeatures(degree=3).fit(X1)\n",
    "X1a  = poly.transform(X1)\n",
    "X2a  = poly.transform(X2)\n",
    "\n",
    "# Fazer a regressão linear\n",
    "lr = LinearRegression().fit(X1a, trainY)\n",
    "y1e = lr.predict(X1a)\n",
    "y2e = lr.predict(X2a)\n",
    "print('No conjunto de teste o erro quadrático médio é igual a 0.91:', round(np.mean(np.abs(testY-y2e)), 2))\n",
    "print('No conjunto de treino, o coeficiente de determinação, R**2, é igual a 0.78:', round(lr.score(X1a,trainY), 2))\n"
   ]
  },
  {
   "cell_type": "markdown",
   "metadata": {},
   "source": [
    "a)II"
   ]
  },
  {
   "cell_type": "code",
   "execution_count": 225,
   "metadata": {},
   "outputs": [
    {
     "name": "stdout",
     "output_type": "stream",
     "text": [
      "No conjunto de teste, o erro absoluto médio é igual a 0.66: 0.25\n",
      "Arredondado a zero casas decimais, o valore de w0 é 2: 2\n"
     ]
    }
   ],
   "source": [
    "# treino\n",
    "x1 = x[folds==1]\n",
    "y1 = y[folds==1]\n",
    "# teste\n",
    "x2 = x[folds==0]\n",
    "y2 = y[folds==0]\n",
    "\n",
    "# Adicionar 2ª dimensão\n",
    "X1 = x1[:,np.newaxis]\n",
    "X2 = x2[:,np.newaxis]\n",
    "\n",
    "# Estimar polinomio com os dados de treino\n",
    "poly = PolynomialFeatures(degree=4).fit(X1)\n",
    "X1a  = poly.transform(X1)\n",
    "X2a  = poly.transform(X2)\n",
    "\n",
    "# Fazer a regressão linear\n",
    "lr = LinearRegression().fit(X1a, y1)\n",
    "y1e = lr.predict(X1a)\n",
    "y2e = lr.predict(X2a)\n",
    "print('No conjunto de teste, o erro absoluto médio é igual a 0.66:', round(np.mean((y1-y1e)**2), 2))\n",
    "print('Arredondado a zero casas decimais, o valore de w0 é 2:', round(lr.intercept_))\n"
   ]
  },
  {
   "cell_type": "markdown",
   "metadata": {},
   "source": [
    "b) II"
   ]
  },
  {
   "cell_type": "code",
   "execution_count": 226,
   "metadata": {},
   "outputs": [
    {
     "name": "stdout",
     "output_type": "stream",
     "text": [
      "{'Q001': array([[0., 0., 0., 1.],\n",
      "       [0., 0., 0., 1.]]), 'Q002': array([[1., 0., 0., 0.],\n",
      "       [1., 0., 0., 0.]]), 'Q003': array([[0., 1., 0., 0.],\n",
      "       [0., 1., 0., 0.]]), 'nome': 'Diogo Sancho Pires Lobo', 'numero': 'A48168'}\n"
     ]
    }
   ],
   "source": [
    "q = pickle.load(open('A48168_Ficha4_Respostas.p','rb'))\n",
    "print(q)"
   ]
  },
  {
   "cell_type": "code",
   "execution_count": 227,
   "metadata": {},
   "outputs": [],
   "source": [
    "q['Q001'][0,:] = [0,0,0,1]\n",
    "q['Q001'][1,:] = [0,0,0,1]\n",
    "q['Q002'][0,:] = [1,0,0,0]\n",
    "q['Q002'][1,:] = [1,0,0,0]\n",
    "q['Q003'][0,:] = [0,1,0,0]\n",
    "q['Q003'][1,:] = [0,1,0,0]\n",
    "\n",
    "pickle.dump(q,open('A48168_Ficha4_Respostas.p','wb'))"
   ]
  },
  {
   "cell_type": "code",
   "execution_count": 228,
   "metadata": {},
   "outputs": [
    {
     "name": "stdout",
     "output_type": "stream",
     "text": [
      "{'Q001': array([[0., 0., 0., 1.],\n",
      "       [0., 0., 0., 1.]]), 'Q002': array([[1., 0., 0., 0.],\n",
      "       [1., 0., 0., 0.]]), 'Q003': array([[0., 1., 0., 0.],\n",
      "       [0., 1., 0., 0.]]), 'nome': 'Diogo Sancho Pires Lobo', 'numero': 'A48168'}\n"
     ]
    }
   ],
   "source": [
    "vs = pickle.load(open('A48168_Ficha4_Respostas.p','rb'))\n",
    "print(vs)"
   ]
  }
 ],
 "metadata": {
  "kernelspec": {
   "display_name": "Python 3",
   "language": "python",
   "name": "python3"
  },
  "language_info": {
   "codemirror_mode": {
    "name": "ipython",
    "version": 3
   },
   "file_extension": ".py",
   "mimetype": "text/x-python",
   "name": "python",
   "nbconvert_exporter": "python",
   "pygments_lexer": "ipython3",
   "version": "3.12.8"
  }
 },
 "nbformat": 4,
 "nbformat_minor": 2
}
