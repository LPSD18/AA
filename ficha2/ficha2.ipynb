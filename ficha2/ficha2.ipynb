{
 "cells": [
  {
   "cell_type": "code",
   "execution_count": 264,
   "metadata": {},
   "outputs": [],
   "source": [
    "import matplotlib.pyplot as plt\n",
    "import numpy as np\n",
    "import scipy.spatial.distance as spd\n",
    "import pickle\n",
    "from sklearn.metrics import confusion_matrix\n",
    "from numpy.linalg import pinv\n"
   ]
  },
  {
   "cell_type": "code",
   "execution_count": 265,
   "metadata": {},
   "outputs": [],
   "source": [
    "fName = 'A48168_Q002_data.p'\n",
    "D = pickle.load(open(fName,'rb'))"
   ]
  },
  {
   "cell_type": "markdown",
   "metadata": {},
   "source": [
    "## Pergunta 1"
   ]
  },
  {
   "cell_type": "code",
   "execution_count": 266,
   "metadata": {},
   "outputs": [
    {
     "name": "stdout",
     "output_type": "stream",
     "text": [
      "[[ 3  3  4  1  0]\n",
      " [-1 -1  2  2  1]]\n",
      "[[1 2 1 1]\n",
      " [0 0 0 3]]\n"
     ]
    }
   ],
   "source": [
    "X = np.array([[3,3,4,1,0,1,2,1,1],\n",
    "     [-1,-1,2,2,1,0,0,0,3]])\n",
    "x0 = X[:,:5]\n",
    "print(x0)\n",
    "x1 = X[:,5:]\n",
    "print(x1)"
   ]
  },
  {
   "cell_type": "markdown",
   "metadata": {},
   "source": [
    "### alinea A"
   ]
  },
  {
   "cell_type": "code",
   "execution_count": 267,
   "metadata": {},
   "outputs": [
    {
     "name": "stdout",
     "output_type": "stream",
     "text": [
      "[[5 0]\n",
      " [3 1]]\n",
      "3\n"
     ]
    }
   ],
   "source": [
    "m0 = (np.mean(x0))\n",
    "m1 = (np.mean(x1))\n",
    "Xn0 = (X-m0)\n",
    "Xn1 = (X-m1)\n",
    "D0 = np.round(np.sqrt(np.sum(Xn0*Xn0,axis=0)))\n",
    "D1 = np.round(np.sqrt(np.sum(Xn1*Xn1,axis=0)))\n",
    "Dtotal = np.vstack((D0,D1))\n",
    "estClass = np.round(np.argmin(Dtotal,axis=0))\n",
    "y = [0,0,0,0,0,1,1,1,1]\n",
    "MC = confusion_matrix(y,estClass)\n",
    "print(MC)\n",
    "print(np.sum(y!=estClass))"
   ]
  },
  {
   "cell_type": "markdown",
   "metadata": {},
   "source": [
    "## IV"
   ]
  },
  {
   "cell_type": "markdown",
   "metadata": {},
   "source": [
    "### alinea B"
   ]
  },
  {
   "cell_type": "code",
   "execution_count": 268,
   "metadata": {},
   "outputs": [
    {
     "name": "stdout",
     "output_type": "stream",
     "text": [
      "0.4\n",
      "0.0\n"
     ]
    }
   ],
   "source": [
    "cityDistance = np.sum(np.abs(m0-m1))\n",
    "print(np.round(cityDistance,2))\n",
    "\n",
    "pint = np.dot(m0.T,m1)\n",
    "norm0 = np.linalg.norm(m0)\n",
    "norm1 = np.linalg.norm(m1)\n",
    "cosine = 1-(pint/(norm0*norm1))\n",
    "print(np.round(cosine,2))"
   ]
  },
  {
   "cell_type": "markdown",
   "metadata": {},
   "source": [
    "## IV"
   ]
  },
  {
   "cell_type": "markdown",
   "metadata": {},
   "source": [
    "### alinea C"
   ]
  },
  {
   "cell_type": "code",
   "execution_count": 269,
   "metadata": {},
   "outputs": [
    {
     "name": "stdout",
     "output_type": "stream",
     "text": [
      "[[-2  3]\n",
      " [ 1  1]]\n",
      "[2.23028439 0.97378157]\n",
      "[6.36396103 4.24264069]\n",
      "[0 0]\n"
     ]
    }
   ],
   "source": [
    "S0 = np.cov(x0)\n",
    "S1 = np.cov(x1)\n",
    "\n",
    "S0i = pinv(S0)\n",
    "S1i = pinv(S1)\n",
    "\n",
    "Xi = np.array([[-2],[1]])\n",
    "Xii = np.array([[3],[1]])\n",
    "Xc = np.hstack((Xi,Xii))\n",
    "print(Xc)\n",
    "D0a  = np.sqrt(np.sum((Xc-m0)*np.dot(S0i,Xc-m0), axis = 0))\n",
    "print(D0a)\n",
    "D1a  = np.sqrt(np.sum((Xc-m1)*np.dot(S1i,Xc-m1), axis = 0))\n",
    "print(D1a)\n",
    "Dtotal = np.vstack((D0a,D1a))\n",
    "estClass = (np.argmin(Dtotal,axis=0))\n",
    "print(estClass)"
   ]
  },
  {
   "cell_type": "markdown",
   "metadata": {},
   "source": [
    "## IV"
   ]
  },
  {
   "cell_type": "markdown",
   "metadata": {},
   "source": [
    "### alinea D"
   ]
  },
  {
   "cell_type": "code",
   "execution_count": 270,
   "metadata": {},
   "outputs": [
    {
     "name": "stdout",
     "output_type": "stream",
     "text": [
      "[[ 3  3  4  1  0]\n",
      " [-1 -1  2  2  1]]\n",
      "[[1 2 1 1]\n",
      " [0 0 0 3]]\n"
     ]
    }
   ],
   "source": [
    "Xnew = np.array([[3,3,4,1,0,1,2,1,1],\n",
    "               [-1,-1,2,2,1,0,0,0,3]])\n",
    "Xnew0 = Xnew[:,:5]\n",
    "Xnew1 = Xnew[:,5:]\n",
    "print(Xnew0)\n",
    "print(Xnew1)"
   ]
  },
  {
   "cell_type": "code",
   "execution_count": 271,
   "metadata": {},
   "outputs": [
    {
     "name": "stdout",
     "output_type": "stream",
     "text": [
      "[0 0 1 1 1 0 0 0 1]\n",
      "Matriz de Confusão\n",
      " [[2 3]\n",
      " [3 1]]\n",
      "\n",
      "i)  acertos na classe dos positivos é de 4:  1\n",
      "ii) O número total de erros é 1: 6\n"
     ]
    }
   ],
   "source": [
    "mNew0 = np.mean(Xnew0,axis=1)\n",
    "mNew1 = np.mean(Xnew1,axis=1)\n",
    "\n",
    "Aux0 = np.dot(Xnew.T,mNew0)\n",
    "D0 = 1 - Aux0/np.dot(np.sqrt(np.sum(Xnew**2)),np.sqrt(np.sum(mNew0**2)))\n",
    "Aux1 = np.dot(Xnew.T,mNew1)\n",
    "D1 = 1 - Aux1/np.dot(np.sqrt(np.sum(Xnew**2)),np.sqrt(np.sum(mNew1**2)))\n",
    "yNew = np.array([0,0,0,0,0,1,1,1,1])\n",
    "Dd  = np.vstack((D0, D1)) \n",
    "yed = np.argmin(Dd, axis=0) \n",
    "print(yed)\n",
    "MC = confusion_matrix(yNew, yed)\n",
    "print('Matriz de Confusão\\n', MC)\n",
    "TN = MC[0,0]\n",
    "FP = MC[0,1]\n",
    "FN = MC[1,0]\n",
    "TP = MC[1,1]\n",
    "print()\n",
    "print('i)  acertos na classe dos positivos é de 4: ', TP)  # F\n",
    "print('ii) O número total de erros é 1:', FN+FP) # V"
   ]
  },
  {
   "cell_type": "markdown",
   "metadata": {},
   "source": [
    "## IV"
   ]
  },
  {
   "cell_type": "markdown",
   "metadata": {},
   "source": [
    "## 2"
   ]
  },
  {
   "cell_type": "code",
   "execution_count": 272,
   "metadata": {},
   "outputs": [],
   "source": [
    "fName = 'A48168_Q002_data.p'\n",
    "D = pickle.load(open(fName,'rb'))"
   ]
  },
  {
   "cell_type": "code",
   "execution_count": 273,
   "metadata": {},
   "outputs": [
    {
     "name": "stdout",
     "output_type": "stream",
     "text": [
      "Percentagem de acertos da classe dos negativos: 79.1 %\n",
      "Percentagem de exemplos da classe dos positivos: 20.0 %\n",
      "Número de Falsos Negativos: 73\n",
      "Número de Falsos Positivos: 334\n"
     ]
    }
   ],
   "source": [
    "true_class = D['trueClass']\n",
    "est_class = D['estClass']\n",
    "# Cálculos dos totais\n",
    "total_negativos = np.sum(true_class == 0)\n",
    "total_positivos = np.sum(true_class == 1)\n",
    "total_exemplos = len(true_class)\n",
    "\n",
    "# Cálculo das métricas\n",
    "true_negatives = np.sum((true_class == 0) & (est_class == 0))\n",
    "false_negatives = np.sum((true_class == 1) & (est_class == 0))\n",
    "false_positives = np.sum((true_class == 0) & (est_class == 1))\n",
    "\n",
    "# Percentagem de acertos da classe dos negativos\n",
    "percent_acertos_negativos = (true_negatives / total_negativos) * 100\n",
    "percent_acertos_negativos = round(percent_acertos_negativos, 1)\n",
    "\n",
    "# Percentagem de exemplos da classe dos positivos\n",
    "percent_exemplos_positivos = (total_positivos / total_exemplos) * 100\n",
    "percent_exemplos_positivos = round(percent_exemplos_positivos, 1)\n",
    "\n",
    "# Resultados\n",
    "print(\"Percentagem de acertos da classe dos negativos:\", percent_acertos_negativos, \"%\")\n",
    "print(\"Percentagem de exemplos da classe dos positivos:\", percent_exemplos_positivos, \"%\")\n",
    "print(\"Número de Falsos Negativos:\", false_negatives)\n",
    "print(\"Número de Falsos Positivos:\", false_positives)"
   ]
  },
  {
   "cell_type": "markdown",
   "metadata": {},
   "source": [
    "a) ii\n",
    "\n",
    "b) ii"
   ]
  },
  {
   "cell_type": "code",
   "execution_count": 274,
   "metadata": {},
   "outputs": [
    {
     "name": "stdout",
     "output_type": "stream",
     "text": [
      "{'Q001': array([[0., 0., 0., 1.],\n",
      "       [0., 0., 0., 1.],\n",
      "       [0., 0., 0., 1.],\n",
      "       [0., 0., 0., 1.]]), 'Q002': array([[0., 1., 0., 0.],\n",
      "       [0., 1., 0., 0.]]), 'nome': 'Diogo Sancho Pires Lobo', 'numero': 'A48168'}\n"
     ]
    }
   ],
   "source": [
    "q = pickle.load(open('A48168_Ficha2_Respostas.p','rb'))\n",
    "print(q)"
   ]
  },
  {
   "cell_type": "code",
   "execution_count": 275,
   "metadata": {},
   "outputs": [],
   "source": [
    "q['Q001'][0,:] = [0,0,0,1]\n",
    "q['Q001'][1,:] = [0,0,0,1]\n",
    "q['Q001'][2,:] = [0,0,0,1]\n",
    "q['Q001'][3,:] = [0,0,0,1]\n",
    "\n",
    "q['Q002'][0,:] = [0,1,0,0]\n",
    "q['Q002'][1,:] = [0,1,0,0]\n",
    "\n",
    "pickle.dump(q,open('A48168_Ficha2_Respostas.p','wb'))"
   ]
  },
  {
   "cell_type": "code",
   "execution_count": 276,
   "metadata": {},
   "outputs": [
    {
     "name": "stdout",
     "output_type": "stream",
     "text": [
      "{'Q001': array([[0., 0., 0., 1.],\n",
      "       [0., 0., 0., 1.],\n",
      "       [0., 0., 0., 1.],\n",
      "       [0., 0., 0., 1.]]), 'Q002': array([[0., 1., 0., 0.],\n",
      "       [0., 1., 0., 0.]]), 'nome': 'Diogo Sancho Pires Lobo', 'numero': 'A48168'}\n"
     ]
    }
   ],
   "source": [
    "vs = pickle.load(open('A48168_Ficha2_Respostas.p','rb'))\n",
    "print(vs)"
   ]
  }
 ],
 "metadata": {
  "kernelspec": {
   "display_name": "Python 3",
   "language": "python",
   "name": "python3"
  },
  "language_info": {
   "codemirror_mode": {
    "name": "ipython",
    "version": 3
   },
   "file_extension": ".py",
   "mimetype": "text/x-python",
   "name": "python",
   "nbconvert_exporter": "python",
   "pygments_lexer": "ipython3",
   "version": "3.12.7"
  }
 },
 "nbformat": 4,
 "nbformat_minor": 2
}
