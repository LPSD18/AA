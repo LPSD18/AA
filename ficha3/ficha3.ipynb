{
 "cells": [
  {
   "cell_type": "code",
   "execution_count": 1,
   "metadata": {},
   "outputs": [],
   "source": [
    "import numpy as np\n",
    "from matplotlib import pyplot as plt\n",
    "import pickle\n",
    "import scipy.linalg        as la\n"
   ]
  },
  {
   "cell_type": "code",
   "execution_count": 2,
   "metadata": {},
   "outputs": [
    {
     "data": {
      "text/plain": [
       "dict_keys(['foldTrain', 'trueClass', 'foldTest', 'X'])"
      ]
     },
     "execution_count": 2,
     "metadata": {},
     "output_type": "execute_result"
    }
   ],
   "source": [
    "dados = pickle.load(open('MNISTsmall.p','rb'))\n",
    "dados.keys()"
   ]
  },
  {
   "cell_type": "code",
   "execution_count": 3,
   "metadata": {},
   "outputs": [],
   "source": [
    "digitos = dados['X']\n",
    "trueClass = dados['trueClass']\n",
    "f1 = dados['foldTrain']\n",
    "f2 = dados['foldTest']"
   ]
  },
  {
   "cell_type": "code",
   "execution_count": 4,
   "metadata": {},
   "outputs": [],
   "source": [
    "train9 = digitos[:,(trueClass==9)&f1]\n",
    "train9 = train9[:,:364]"
   ]
  },
  {
   "cell_type": "markdown",
   "metadata": {},
   "source": [
    "### a)"
   ]
  },
  {
   "cell_type": "code",
   "execution_count": 5,
   "metadata": {},
   "outputs": [
    {
     "name": "stdout",
     "output_type": "stream",
     "text": [
      "norma do vetor de média:  1657.0\n",
      "desvio padrão:  31.0\n"
     ]
    }
   ],
   "source": [
    "print('norma do vetor de média: ', np.round(np.linalg.norm(np.mean(train9, axis=1))))\n",
    "print('desvio padrão: ', np.round(np.std(train9,axis=1))[358])"
   ]
  },
  {
   "cell_type": "markdown",
   "metadata": {},
   "source": [
    "### Resposta\n",
    "a) IV"
   ]
  },
  {
   "cell_type": "markdown",
   "metadata": {},
   "source": [
    "### b)"
   ]
  },
  {
   "cell_type": "code",
   "execution_count": 6,
   "metadata": {},
   "outputs": [
    {
     "name": "stdout",
     "output_type": "stream",
     "text": [
      "363\n"
     ]
    }
   ],
   "source": [
    "# Obter pela covariância os valores e vetores próprios dos dados de treino\n",
    "Cx   = np.cov(train9)\n",
    "u, V = np.linalg.eig(Cx)\n",
    "u, V = u.real, V.real\n",
    "idx = np.argsort(-u)\n",
    "u = u[idx]\n",
    "V = V[:, idx]\n",
    "v = np.diag(Cx)\n",
    "print(np.sum(u>(10e-10)))\n"
   ]
  },
  {
   "cell_type": "markdown",
   "metadata": {},
   "source": [
    "### Resposta\n",
    "b) III"
   ]
  },
  {
   "cell_type": "markdown",
   "metadata": {},
   "source": [
    "### c)"
   ]
  },
  {
   "cell_type": "code",
   "execution_count": 7,
   "metadata": {},
   "outputs": [
    {
     "name": "stdout",
     "output_type": "stream",
     "text": [
      "(784, 784)\n",
      "ii) O determinante da matriz de covariância é igual a 0: 0.0\n"
     ]
    }
   ],
   "source": [
    "print(Cx.shape)\n",
    "print('ii) O determinante da matriz de covariância é igual a 0:', np.linalg.det(Cx))"
   ]
  },
  {
   "cell_type": "markdown",
   "metadata": {},
   "source": [
    "### Resposta\n",
    "c) II"
   ]
  },
  {
   "cell_type": "markdown",
   "metadata": {},
   "source": [
    "### d)"
   ]
  },
  {
   "cell_type": "code",
   "execution_count": 8,
   "metadata": {},
   "outputs": [
    {
     "name": "stdout",
     "output_type": "stream",
     "text": [
      "Erro Absoluto Médio: 21.0\n"
     ]
    }
   ],
   "source": [
    "dig222 = train9[:,221]\n",
    "un = u/np.sum(u)\n",
    "uc = np.cumsum(un)\n",
    "W  = V[:, :np.sum(uc<=.48)]\n",
    "\n",
    "dig222p = np.dot(W.T,dig222)    # Dados projetados\n",
    "dig222r = np.dot(W, dig222p)    # Dados reconstruidos \n",
    "print('Erro Absoluto Médio:', np.round(np.mean(np.abs(dig222r - dig222))))"
   ]
  },
  {
   "cell_type": "markdown",
   "metadata": {},
   "source": [
    "### Resposta\n",
    "d) III"
   ]
  },
  {
   "cell_type": "markdown",
   "metadata": {},
   "source": [
    "### e)"
   ]
  },
  {
   "cell_type": "code",
   "execution_count": 9,
   "metadata": {},
   "outputs": [
    {
     "name": "stdout",
     "output_type": "stream",
     "text": [
      "Número de píxeis iguais a zero: 302\n"
     ]
    }
   ],
   "source": [
    "\n",
    "num_zeros = np.sum(np.diag(Cx)==0)\n",
    "print('Número de píxeis iguais a zero:', num_zeros)"
   ]
  },
  {
   "cell_type": "markdown",
   "metadata": {},
   "source": [
    "### Resposta\n",
    "e) II"
   ]
  },
  {
   "cell_type": "markdown",
   "metadata": {},
   "source": [
    "### f)"
   ]
  },
  {
   "cell_type": "code",
   "execution_count": 10,
   "metadata": {},
   "outputs": [
    {
     "name": "stdout",
     "output_type": "stream",
     "text": [
      "Erro Quadrático Médio: 355.0\n"
     ]
    }
   ],
   "source": [
    "# 357 dígito:\n",
    "dig357 = train9[:, 356]\n",
    "\n",
    "# Guardar só as referidas componentes na matriz de transformação W\n",
    "W = V[:, :55]\n",
    "# print(W.shape)\n",
    "\n",
    "dig357p = np.dot(W.T,dig357)     # Dados projetados\n",
    "dig357r = np.dot(W,dig357p)      # Dados reconstruidos \n",
    "\n",
    "print('Erro Quadrático Médio:', np.round(np.mean((dig357-dig357r)**2)))"
   ]
  },
  {
   "cell_type": "markdown",
   "metadata": {},
   "source": [
    "### Resposta\n",
    "f) II"
   ]
  },
  {
   "cell_type": "code",
   "execution_count": 11,
   "metadata": {},
   "outputs": [
    {
     "name": "stdout",
     "output_type": "stream",
     "text": [
      "{'Q001': array([[0., 0., 0., 1.],\n",
      "       [0., 0., 1., 0.],\n",
      "       [0., 1., 0., 0.],\n",
      "       [0., 0., 1., 0.],\n",
      "       [0., 1., 0., 0.],\n",
      "       [0., 1., 0., 0.]]), 'nome': 'Diogo Sancho Pires Lobo', 'numero': 'A48168'}\n"
     ]
    }
   ],
   "source": [
    "q = pickle.load(open('A48168_Ficha3_Respostas.p','rb'))\n",
    "print(q)"
   ]
  },
  {
   "cell_type": "code",
   "execution_count": 12,
   "metadata": {},
   "outputs": [],
   "source": [
    "q['Q001'][0,:] = [0,0,0,1]\n",
    "q['Q001'][1,:] = [0,0,1,0]\n",
    "q['Q001'][2,:] = [0,1,0,0]\n",
    "q['Q001'][3,:] = [0,0,1,0]\n",
    "q['Q001'][4,:] = [0,1,0,0]\n",
    "q['Q001'][5,:] = [0,1,0,0]\n",
    "\n",
    "pickle.dump(q,open('A48168_Ficha3_Respostas.p','wb'))"
   ]
  },
  {
   "cell_type": "code",
   "execution_count": 13,
   "metadata": {},
   "outputs": [
    {
     "name": "stdout",
     "output_type": "stream",
     "text": [
      "{'Q001': array([[0., 0., 0., 1.],\n",
      "       [0., 0., 1., 0.],\n",
      "       [0., 1., 0., 0.],\n",
      "       [0., 0., 1., 0.],\n",
      "       [0., 1., 0., 0.],\n",
      "       [0., 1., 0., 0.]]), 'nome': 'Diogo Sancho Pires Lobo', 'numero': 'A48168'}\n"
     ]
    }
   ],
   "source": [
    "vs = pickle.load(open('A48168_Ficha3_Respostas.p','rb'))\n",
    "print(vs)"
   ]
  }
 ],
 "metadata": {
  "kernelspec": {
   "display_name": "Python 3",
   "language": "python",
   "name": "python3"
  },
  "language_info": {
   "codemirror_mode": {
    "name": "ipython",
    "version": 3
   },
   "file_extension": ".py",
   "mimetype": "text/x-python",
   "name": "python",
   "nbconvert_exporter": "python",
   "pygments_lexer": "ipython3",
   "version": "3.12.7"
  }
 },
 "nbformat": 4,
 "nbformat_minor": 2
}
