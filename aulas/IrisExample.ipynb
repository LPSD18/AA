{
 "cells": [
  {
   "cell_type": "markdown",
   "metadata": {},
   "source": [
    "# Validação Cruzada"
   ]
  },
  {
   "cell_type": "markdown",
   "metadata": {},
   "source": [
    "Divisao em treino e teste – base de dados  iris:\n"
   ]
  },
  {
   "cell_type": "code",
   "execution_count": 146,
   "metadata": {},
   "outputs": [],
   "source": [
    "from sklearn.datasets import load_iris# type: ignore\n",
    "iris = load_iris()"
   ]
  },
  {
   "cell_type": "markdown",
   "metadata": {},
   "source": [
    "Carregar função separadora dos dados em treino e teste: \n"
   ]
  },
  {
   "cell_type": "code",
   "execution_count": 147,
   "metadata": {},
   "outputs": [],
   "source": [
    "from sklearn.model_selection import train_test_split# type: ignore\n",
    "X1, X2, t1, t2 = train_test_split(iris.data,iris.target,test_size=0.3, stratify=iris.target)"
   ]
  },
  {
   "cell_type": "markdown",
   "metadata": {},
   "source": [
    "Os dados de treino e respectivas classes estao nas variaveis X1 e t1. Os dados de teste estao\n",
    "nas variaveis  X2 e t2. O parametro  test size=0.3 atribui 30% dos exemplos ao conjunto de\n",
    "teste. Para os conjuntos de treino e de teste terem a mesma distribuição de classes que todos \n",
    "os dados, chamar função com parametro: stratify=iris.target"
   ]
  },
  {
   "cell_type": "markdown",
   "metadata": {},
   "source": [
    "Carregar classificador (discriminante logıstico), treinar e classificar:\n"
   ]
  },
  {
   "cell_type": "code",
   "execution_count": 148,
   "metadata": {},
   "outputs": [
    {
     "name": "stdout",
     "output_type": "stream",
     "text": [
      "Prob Acertos:  97.8\n"
     ]
    }
   ],
   "source": [
    "from sklearn.linear_model import LogisticRegression# type: ignore\n",
    "logreg = LogisticRegression().fit(X1,t1)\n",
    "print('Prob Acertos:  %.1f'%(logreg.score(X2,t2)*100))\n"
   ]
  },
  {
   "cell_type": "markdown",
   "metadata": {},
   "source": [
    "Probabilidade de acertos varia entre 80% e 100% – depende dos exemplos escolhidos para o\n",
    "teste pela função train test split() - inicializada com o parametro random state."
   ]
  },
  {
   "cell_type": "markdown",
   "metadata": {},
   "source": [
    "# Validação cruzada K-Fold"
   ]
  },
  {
   "cell_type": "markdown",
   "metadata": {},
   "source": [
    "A maneira mais directa usar validação cruzada e chamar a função\n",
    "cross_val_score(). Esta recebe como parametros de entrada o \n",
    "classificador, os dados, as respectivas classes, e o numero de folds"
   ]
  },
  {
   "cell_type": "code",
   "execution_count": 149,
   "metadata": {},
   "outputs": [],
   "source": [
    "from sklearn.model_selection import cross_val_score# type: ignore\n",
    "from sklearn.linear_model import LogisticRegression# type: ignore\n",
    "logreg = LogisticRegression(max_iter=1000)\n",
    "scores = cross_val_score(logreg,iris.data,iris.target,cv=5)\n"
   ]
  },
  {
   "cell_type": "code",
   "execution_count": 150,
   "metadata": {},
   "outputs": [
    {
     "name": "stdout",
     "output_type": "stream",
     "text": [
      "[0.96666667 1.         0.93333333 0.96666667 1.        ]\n"
     ]
    }
   ],
   "source": [
    "print(scores)"
   ]
  },
  {
   "cell_type": "markdown",
   "metadata": {},
   "source": [
    "A função devolve a probabilidade de acertos em cada fold de teste. Porem não se sabe as\n",
    "predições individuais. Para saber as classificações atribuidas usar a função\n",
    "cross_val_predict(). Esta retorna num numpy array os resultados das classes preditas\n",
    "para os elementos de todo o conjunto"
   ]
  },
  {
   "cell_type": "code",
   "execution_count": 151,
   "metadata": {},
   "outputs": [
    {
     "name": "stdout",
     "output_type": "stream",
     "text": [
      "[0 0 0 0 0 0 0 0 0 0 0 0 0 0 0 0 0 0 0 0 0 0 0 0 0 0 0 0 0 0 0 0 0 0 0 0 0\n",
      " 0 0 0 0 0 0 0 0 0 0 0 0 0 1 1 1 1 1 1 1 1 1 1 1 1 1 1 1 1 1 1 1 1 2 1 1 1\n",
      " 1 1 1 2 1 1 1 1 1 2 1 1 1 1 1 1 1 1 1 1 1 1 1 1 1 1 2 2 2 2 2 2 1 2 2 2 2\n",
      " 2 2 2 2 2 2 2 2 2 2 2 2 2 2 2 2 2 2 2 2 2 2 2 2 2 2 2 2 2 2 2 2 2 2 2 2 2\n",
      " 2 2]\n"
     ]
    }
   ],
   "source": [
    "from sklearn.model_selection import cross_val_predict # type: ignore\n",
    "results = cross_val_predict(logreg,iris.data,iris.target,cv=5)\n",
    "print(results)"
   ]
  },
  {
   "cell_type": "markdown",
   "metadata": {},
   "source": [
    "Para ter mais controlo de como os dados sao divididos em folds, pode-se usar o  “K-fold splitter”.\n"
   ]
  },
  {
   "cell_type": "code",
   "execution_count": 152,
   "metadata": {},
   "outputs": [],
   "source": [
    "from sklearn.model_selection import KFold # type: ignore\n",
    "Kfold = KFold()"
   ]
  },
  {
   "cell_type": "markdown",
   "metadata": {},
   "source": [
    "A instancia  kfold e passadaas funções cross_val_score() e cross_val_predict()\n",
    "(parametro  cv=kfold)\n",
    "ATENÇÃO : se nao especificado, a divisão e feita sequencialmente \n",
    "--> pode ser problematico para dados que estejam ordenados por classe:\n"
   ]
  },
  {
   "cell_type": "code",
   "execution_count": 153,
   "metadata": {},
   "outputs": [
    {
     "data": {
      "text/plain": [
       "array([1.        , 0.94736842, 0.91891892, 0.75675676])"
      ]
     },
     "execution_count": 153,
     "metadata": {},
     "output_type": "execute_result"
    }
   ],
   "source": [
    "Kfold = KFold(n_splits=4)\n",
    "cross_val_score(logreg,iris.data,iris.target,cv=Kfold)"
   ]
  },
  {
   "cell_type": "markdown",
   "metadata": {},
   "source": [
    "Ao dividir em 3 cada parte fica com uma das classes ou seja nunca vai acertar por não existir variedade\n"
   ]
  },
  {
   "cell_type": "code",
   "execution_count": 154,
   "metadata": {},
   "outputs": [
    {
     "data": {
      "text/plain": [
       "array([0., 0., 0.])"
      ]
     },
     "execution_count": 154,
     "metadata": {},
     "output_type": "execute_result"
    }
   ],
   "source": [
    "Kfold = KFold(n_splits=3)\n",
    "cross_val_score(logreg,iris.data,iris.target,cv=Kfold)"
   ]
  },
  {
   "cell_type": "markdown",
   "metadata": {},
   "source": [
    "Neste já há variedade portanto acerta por haver shuffle"
   ]
  },
  {
   "cell_type": "code",
   "execution_count": 155,
   "metadata": {},
   "outputs": [
    {
     "data": {
      "text/plain": [
       "array([0.98, 0.96, 0.96])"
      ]
     },
     "execution_count": 155,
     "metadata": {},
     "output_type": "execute_result"
    }
   ],
   "source": [
    "Kfold = KFold(n_splits=3,shuffle=True,random_state=0)\n",
    "cross_val_score(logreg,iris.data,iris.target,cv=Kfold)"
   ]
  },
  {
   "cell_type": "markdown",
   "metadata": {},
   "source": [
    "# Stratified KFold"
   ]
  },
  {
   "cell_type": "markdown",
   "metadata": {},
   "source": [
    "Este é outro “K-fold splitter” que divide os dados em K folds.\n",
    "▸ A proporção do número de exemplos por classe na base de dados ´ e mantida \n",
    "(aproximadamente) em cada fold.\n",
    "▸ Muito util para dados que com diferentes percentagens de exemplos por classe, \n",
    "como e geralmente o caso em situações de detecção onde o número de exemplos \n",
    "negativos e significativamente superior aos exemplos positivos"
   ]
  },
  {
   "cell_type": "code",
   "execution_count": 156,
   "metadata": {},
   "outputs": [
    {
     "data": {
      "text/plain": [
       "array([0.98, 0.96, 0.98])"
      ]
     },
     "execution_count": 156,
     "metadata": {},
     "output_type": "execute_result"
    }
   ],
   "source": [
    "from sklearn.model_selection import StratifiedKFold # type: ignore\n",
    "kfold=StratifiedKFold(n_splits=3)\n",
    "cross_val_score(logreg, iris.data, iris.target, cv=kfold)"
   ]
  },
  {
   "cell_type": "markdown",
   "metadata": {},
   "source": [
    "# ShuffleSplit"
   ]
  },
  {
   "cell_type": "markdown",
   "metadata": {},
   "source": [
    "ShuffleSplit e outra forma de aplicar a validação cruzada. Os dados são divididos de forma \n",
    "aleatoria em dois, parte para o treino e outra para o teste, e este processo ´ e repetido K vezes. ´\n",
    "Note que pode-se so usar parte dos dados para treino e teste (as percentagens relativas aos ´\n",
    "dados de treino e teste nao têm que somar 100%)."
   ]
  },
  {
   "cell_type": "code",
   "execution_count": 157,
   "metadata": {},
   "outputs": [
    {
     "data": {
      "text/plain": [
       "array([0.88888889, 0.97777778, 0.97777778, 0.97777778, 0.91111111])"
      ]
     },
     "execution_count": 157,
     "metadata": {},
     "output_type": "execute_result"
    }
   ],
   "source": [
    "from sklearn.model_selection import ShuffleSplit # type: ignore\n",
    "kfold=ShuffleSplit(n_splits=5,train_size=0.5,test_size=0.3)\n",
    "cross_val_score(logreg, iris.data, iris.target, cv=kfold)\n"
   ]
  },
  {
   "cell_type": "markdown",
   "metadata": {},
   "source": [
    "# StratifiedShuffleSplit"
   ]
  },
  {
   "cell_type": "markdown",
   "metadata": {},
   "source": [
    "StratifiedShuffleSplit e em tudo semelhante à função ShuffleSplit, excepto que as\n",
    "probabilidades a priori das classes sao mantidas nos conjuntos de treino e teste."
   ]
  },
  {
   "cell_type": "code",
   "execution_count": 158,
   "metadata": {},
   "outputs": [
    {
     "data": {
      "text/plain": [
       "array([0.91111111, 0.93333333, 0.95555556, 0.93333333, 0.97777778])"
      ]
     },
     "execution_count": 158,
     "metadata": {},
     "output_type": "execute_result"
    }
   ],
   "source": [
    "from sklearn.model_selection import StratifiedShuffleSplit # type: ignore\n",
    "\n",
    "kfold=StratifiedShuffleSplit(n_splits=5,train_size=0.5,test_size=0.3)\n",
    "cross_val_score(logreg, iris.data, iris.target, cv=kfold)"
   ]
  },
  {
   "cell_type": "markdown",
   "metadata": {},
   "source": [
    "# Matriz de Confusão"
   ]
  },
  {
   "cell_type": "markdown",
   "metadata": {},
   "source": [
    "A matriz de confusão é obtida com a função confusion_matrix() do\n",
    "sub-modulo sklearn.metrics."
   ]
  },
  {
   "cell_type": "code",
   "execution_count": 194,
   "metadata": {},
   "outputs": [
    {
     "name": "stdout",
     "output_type": "stream",
     "text": [
      "Matriz de confusão:\n",
      "  [[17  0  0]\n",
      " [ 0 17  0]\n",
      " [ 0  0 16]]\n",
      "Proabilidade de acertos:  1.0\n"
     ]
    }
   ],
   "source": [
    "from sklearn.datasets import load_iris # type: ignore\n",
    "from sklearn.model_selection import train_test_split # type: ignore\n",
    "from sklearn.metrics import confusion_matrix # type: ignore\n",
    "from sklearn.naive_bayes import GaussianNB # type: ignore\n",
    "iris = load_iris()\n",
    "X1,X2,t1,t2 = train_test_split(iris.data,iris.target,test_size=1/3,stratify=iris.target)\n",
    "NBgau = GaussianNB().fit(X1,t1)\n",
    "#t2 os que pertencem a cada classe\n",
    "#se results for igual a t2 então acertou em tudo\n",
    "results=NBgau.predict(X2)\n",
    "print('Matriz de confusão:\\n ',confusion_matrix(t2,results))\n",
    "print('Proabilidade de acertos: ',NBgau.score(X2,t2))\n"
   ]
  },
  {
   "cell_type": "code",
   "execution_count": 198,
   "metadata": {},
   "outputs": [
    {
     "name": "stdout",
     "output_type": "stream",
     "text": [
      "Matriz de confusão:\n",
      "  [[50  0  0]\n",
      " [ 0 45  5]\n",
      " [ 0  4 46]]\n",
      "Proabilidade de acertos:  0.94\n"
     ]
    }
   ],
   "source": [
    "from sklearn.datasets import load_iris\n",
    "from sklearn.model_selection import StratifiedKFold,cross_val_score,cross_val_predict\n",
    "from sklearn.metrics import confusion_matrix\n",
    "from sklearn.naive_bayes import GaussianNB\n",
    "import numpy as np\n",
    "iris=load_iris()\n",
    "kfold=StratifiedKFold(n_splits=3)\n",
    "NBgau=GaussianNB()\n",
    "scores=cross_val_score(NBgau,iris.data,iris.target,cv=kfold)\n",
    "results=cross_val_predict(NBgau,iris.data,iris.target,cv=kfold)\n",
    "print('Matriz de confusão:\\n ',confusion_matrix(iris.target,results))\n",
    "print('Proabilidade de acertos: ',np.mean(scores))\n"
   ]
  },
  {
   "cell_type": "code",
   "execution_count": null,
   "metadata": {},
   "outputs": [],
   "source": []
  }
 ],
 "metadata": {
  "kernelspec": {
   "display_name": "Python 3",
   "language": "python",
   "name": "python3"
  },
  "language_info": {
   "codemirror_mode": {
    "name": "ipython",
    "version": 3
   },
   "file_extension": ".py",
   "mimetype": "text/x-python",
   "name": "python",
   "nbconvert_exporter": "python",
   "pygments_lexer": "ipython3",
   "version": "3.12.7"
  }
 },
 "nbformat": 4,
 "nbformat_minor": 2
}
