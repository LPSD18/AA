{
 "cells": [
  {
   "cell_type": "code",
   "execution_count": 64,
   "metadata": {},
   "outputs": [],
   "source": [
    "from sklearn.feature_extraction.text import CountVectorizer, TfidfTransformer, TfidfVectorizer\n",
    "import numpy as np\n",
    "import matplotlib.pyplot as plt\n",
    "import pickle\n",
    "from sklearn.model_selection import train_test_split\n",
    "import re"
   ]
  },
  {
   "cell_type": "code",
   "execution_count": 65,
   "metadata": {},
   "outputs": [],
   "source": [
    "D = pickle.load(open('imdbFull.p','rb'))"
   ]
  },
  {
   "cell_type": "code",
   "execution_count": 66,
   "metadata": {},
   "outputs": [
    {
     "name": "stdout",
     "output_type": "stream",
     "text": [
      "This dataset contains movie reviews along with their associated binary sentiment polarity labels. It is intended to serve as a benchmark for sentiment classification. This document outlines how the dataset was gathered, and how to use the files provided.\n",
      "For more details see: http://ai.stanford.edu/~amaas/data/sentiment/\n",
      "50000\n",
      "50000\n"
     ]
    }
   ],
   "source": [
    "Docs = D.data\n",
    "y = D.target\n",
    "descr = D.DESCR\n",
    "print(descr)\n",
    "print(len(Docs))\n",
    "print(len(y))\n"
   ]
  },
  {
   "cell_type": "code",
   "execution_count": 67,
   "metadata": {},
   "outputs": [
    {
     "name": "stdout",
     "output_type": "stream",
     "text": [
      "Zero Day leads you to think, even re-think why two boys/young men would do what they did - commit mutual suicide via slaughtering their classmates. It captures what must be beyond a bizarre mode of being for two humans who have decided to withdraw from common civility in order to define their own/mutual world via coupled destruction.<br /><br />It is not a perfect movie but given what money/time the filmmaker and actors had - it is a remarkable product. In terms of explaining the motives and actions of the two young suicide/murderers it is better than 'Elephant' - in terms of being a film that gets under our 'rationalistic' skin it is a far, far better film than almost anything you are likely to see. <br /><br />Flawed but honest with a terrible honesty.\n",
      "Zero Day leads you to think even re-think why two boys young men would do what they did - commit mutual suicide via slaughtering their classmates It captures what must be beyond a bizarre mode of being for two humans who have decided to withdraw from common civility in order to define their own mutual world via coupled destruction br br It is not a perfect movie but given what money time the filmmaker and actors had - it is a remarkable product In terms of explaining the motives and actions of the two young suicide murderers it is better than Elephant - in terms of being a film that gets under our rationalistic skin it is a far far better film than almost anything you are likely to see br br Flawed but honest with a terrible honesty \n"
     ]
    }
   ],
   "source": [
    "print(Docs[0])\n",
    "Docs =[re.sub(r'[^a-z-A-Z\\u00c0-\\u00FF]+',' ',doc)for doc in Docs]\n",
    "print(Docs[0])\n",
    "Tfidf = TfidfVectorizer(min_df=3,token_pattern=r'\\b\\w\\w\\w+\\b').fit(Docs)\n",
    "X = Tfidf.transform(Docs)"
   ]
  },
  {
   "cell_type": "code",
   "execution_count": 68,
   "metadata": {},
   "outputs": [],
   "source": [
    "DocsTrain, DocsTest, ytrain, ytest = train_test_split(X,y,test_size=0.5,shuffle=False,random_state=18)"
   ]
  },
  {
   "cell_type": "code",
   "execution_count": 69,
   "metadata": {},
   "outputs": [
    {
     "name": "stdout",
     "output_type": "stream",
     "text": [
      "0.68908\n",
      "0.4268\n"
     ]
    }
   ],
   "source": [
    "from sklearn.linear_model import LogisticRegression\n",
    "\n",
    "dl = LogisticRegression(penalty='l2',max_iter=1000,C=1,tol=1e-3)\n",
    "dl.fit(DocsTrain,ytrain)\n",
    "print(dl.score(DocsTrain,ytrain))\n",
    "print(dl.score(DocsTest,ytest))"
   ]
  }
 ],
 "metadata": {
  "kernelspec": {
   "display_name": "Python 3",
   "language": "python",
   "name": "python3"
  },
  "language_info": {
   "codemirror_mode": {
    "name": "ipython",
    "version": 3
   },
   "file_extension": ".py",
   "mimetype": "text/x-python",
   "name": "python",
   "nbconvert_exporter": "python",
   "pygments_lexer": "ipython3",
   "version": "3.12.8"
  }
 },
 "nbformat": 4,
 "nbformat_minor": 2
}
