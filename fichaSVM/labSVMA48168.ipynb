{
 "cells": [
  {
   "cell_type": "markdown",
   "metadata": {},
   "source": [
    "## Ficha laboratorial – Discriminantes Logísticos e Máquinas de Suporte Vetorial"
   ]
  },
  {
   "cell_type": "markdown",
   "metadata": {},
   "source": [
    "Ex1. Corre o código abaixo. "
   ]
  },
  {
   "cell_type": "code",
   "execution_count": 510,
   "metadata": {},
   "outputs": [],
   "source": [
    "import numpy as np\n",
    "from sklearn.linear_model import LogisticRegression\n",
    "from sklearn.datasets import load_breast_cancer\n",
    "from sklearn.model_selection import train_test_split"
   ]
  },
  {
   "cell_type": "code",
   "execution_count": 511,
   "metadata": {},
   "outputs": [
    {
     "name": "stdout",
     "output_type": "stream",
     "text": [
      "(426,)\n",
      "(426, 30)\n",
      "0.9440559440559441\n",
      "[[ 0.73711406  0.12950362 -0.313972    0.03127723 -0.12069945 -0.13441614\n",
      "  -0.4099928  -0.2419412  -0.18983837 -0.01606856 -0.10032958  0.96581387\n",
      "   0.36396372 -0.14744845 -0.02305494  0.02768066 -0.05003055 -0.03523754\n",
      "  -0.02314586  0.00353108 -0.18639436 -0.33253177 -0.13085005 -0.01071138\n",
      "  -0.26616356 -0.40812282 -1.00049245 -0.48567928 -0.43608709 -0.06105703]]\n",
      "[34.23720971]\n",
      "[3155]\n"
     ]
    }
   ],
   "source": [
    "BC = load_breast_cancer()\n",
    "Xtrain,Xtest,ytrain,ytest = train_test_split(BC.data,BC.target)\n",
    "print(ytrain.shape)\n",
    "print(Xtrain.shape)\n",
    "Dlog = LogisticRegression(max_iter=10000).fit(Xtrain,ytrain)\n",
    "print(Dlog.score(Xtest,ytest))\n",
    "print(Dlog.coef_)\n",
    "print(Dlog.intercept_)\n",
    "print(Dlog.n_iter_)"
   ]
  },
  {
   "cell_type": "markdown",
   "metadata": {},
   "source": [
    "Observa e analisa os outputs e depois corre a instrução abaixo e verifica a grande \n",
    "diferença nos outputs: "
   ]
  },
  {
   "cell_type": "code",
   "execution_count": 512,
   "metadata": {},
   "outputs": [
    {
     "name": "stdout",
     "output_type": "stream",
     "text": [
      "0.9440559440559441\n",
      "[[ 8.52038563e-02  1.88067262e-02 -2.36454628e-01  3.71588568e-02\n",
      "  -1.48693563e-02 -2.35666412e-02 -5.38463180e-02 -2.95223873e-02\n",
      "  -2.28741808e-02 -3.02191669e-03 -1.11762645e-02  1.34801721e-01\n",
      "   6.70417057e-02 -1.03596692e-01 -2.50263566e-03  3.92315094e-04\n",
      "  -7.49197463e-03 -4.02097686e-03 -2.93981573e-03  6.83664056e-05\n",
      "  -2.89979001e-02 -2.09387264e-01 -1.69954217e-01 -1.46518906e-02\n",
      "  -3.16798278e-02 -7.70558931e-02 -1.38396340e-01 -5.94439023e-02\n",
      "  -5.71299016e-02 -1.08299460e-02]]\n",
      "[36.03493247]\n",
      "[50]\n"
     ]
    }
   ],
   "source": [
    "Dlog = LogisticRegression(solver='newton-cg',C=0.1,penalty='l2',max_iter=10000).fit(Xtrain,ytrain)\n",
    "print(Dlog.score(Xtest,ytest))\n",
    "print(Dlog.coef_)\n",
    "print(Dlog.intercept_)\n",
    "print(Dlog.n_iter_)"
   ]
  },
  {
   "cell_type": "markdown",
   "metadata": {},
   "source": [
    "Ex.2 Corre os dois códigos apresentados abaixo."
   ]
  },
  {
   "cell_type": "code",
   "execution_count": 513,
   "metadata": {},
   "outputs": [],
   "source": [
    "from sklearn.datasets import load_iris\n",
    "from sklearn.metrics import confusion_matrix\n",
    "Iris = load_iris()\n",
    "Xtr,Xte,ytr,yte = train_test_split(Iris.data,Iris.target,test_size=1./3,random_state=0)\n"
   ]
  },
  {
   "cell_type": "code",
   "execution_count": 514,
   "metadata": {},
   "outputs": [
    {
     "name": "stdout",
     "output_type": "stream",
     "text": [
      "[[-0.2430285   0.27855411 -0.99158363 -0.41028019]\n",
      " [ 0.04232199 -0.29727156  0.09375378 -0.14962848]\n",
      " [ 0.20070652  0.01871744  0.89782984  0.55990867]]\n",
      "[ 4.40349261  1.23193827 -5.63543088]\n",
      "[867]\n",
      "[[16  0  0]\n",
      " [ 0 17  2]\n",
      " [ 0  1 14]]\n"
     ]
    }
   ],
   "source": [
    "Dlog1 = LogisticRegression(solver='saga',C=0.1,penalty='l2',max_iter=1000).fit(Xtr,ytr)\n",
    "print(Dlog1.coef_)\n",
    "print(Dlog1.intercept_)\n",
    "print(Dlog1.n_iter_)\n",
    "yest = Dlog1.predict(Xte)\n",
    "print(confusion_matrix(yte,yest))"
   ]
  },
  {
   "cell_type": "markdown",
   "metadata": {},
   "source": [
    "Analisa os outputs e depois altera a “penalty” para “l1” e observa a diferença"
   ]
  },
  {
   "cell_type": "code",
   "execution_count": 515,
   "metadata": {},
   "outputs": [
    {
     "name": "stdout",
     "output_type": "stream",
     "text": [
      "[[ 0.          0.         -1.39744295  0.        ]\n",
      " [ 0.          0.          0.          0.        ]\n",
      " [ 0.          0.          1.15666211  0.        ]]\n",
      "[ 4.54445089  0.47078672 -5.01523761]\n",
      "[50]\n",
      "[[16  0  0]\n",
      " [ 0 17  2]\n",
      " [ 0  0 15]]\n"
     ]
    }
   ],
   "source": [
    "Dlog1 = LogisticRegression(solver='saga',C=0.1,penalty='l1',max_iter=1000).fit(Xtr,ytr)\n",
    "print(Dlog1.coef_)\n",
    "print(Dlog1.intercept_)\n",
    "print(Dlog.n_iter_)\n",
    "yest = Dlog1.predict(Xte)\n",
    "print(confusion_matrix(yte,yest))"
   ]
  },
  {
   "cell_type": "markdown",
   "metadata": {},
   "source": [
    "Ex. 3  Corre o código abaixo e observa o valor obtido no desempenho:"
   ]
  },
  {
   "cell_type": "code",
   "execution_count": 516,
   "metadata": {},
   "outputs": [
    {
     "name": "stdout",
     "output_type": "stream",
     "text": [
      "0.6713286713286714\n"
     ]
    }
   ],
   "source": [
    "from sklearn.svm import SVC\n",
    "svm = SVC(kernel='rbf',gamma='auto').fit(Xtrain,ytrain)\n",
    "print(svm.score(Xtest,ytest))"
   ]
  },
  {
   "cell_type": "markdown",
   "metadata": {},
   "source": [
    "A seguir corre o código abaixo e verifica o impacto do pré-processamento nos dados:"
   ]
  },
  {
   "cell_type": "code",
   "execution_count": 517,
   "metadata": {},
   "outputs": [
    {
     "name": "stdout",
     "output_type": "stream",
     "text": [
      "0.993006993006993\n"
     ]
    }
   ],
   "source": [
    "from sklearn.preprocessing import StandardScaler\n",
    "sc = StandardScaler().fit(Xtrain,ytrain)\n",
    "Xtrain1 = sc.transform(Xtrain); Xtest1 = sc.transform(Xtest)\n",
    "svm1 = SVC(kernel='rbf',gamma='auto').fit(Xtrain1,ytrain)\n",
    "print(svm1.score(Xtest1,ytest))"
   ]
  }
 ],
 "metadata": {
  "kernelspec": {
   "display_name": "Python 3",
   "language": "python",
   "name": "python3"
  },
  "language_info": {
   "codemirror_mode": {
    "name": "ipython",
    "version": 3
   },
   "file_extension": ".py",
   "mimetype": "text/x-python",
   "name": "python",
   "nbconvert_exporter": "python",
   "pygments_lexer": "ipython3",
   "version": "3.12.7"
  }
 },
 "nbformat": 4,
 "nbformat_minor": 2
}
