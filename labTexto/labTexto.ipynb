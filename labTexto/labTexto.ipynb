{
 "cells": [
  {
   "cell_type": "code",
   "execution_count": 190,
   "metadata": {},
   "outputs": [],
   "source": [
    "from sklearn.feature_extraction.text import CountVectorizer\n",
    "import numpy as np\n",
    "import matplotlib.pyplot as plt"
   ]
  },
  {
   "cell_type": "code",
   "execution_count": 191,
   "metadata": {},
   "outputs": [],
   "source": [
    "corpus=['Se uma gaivota viesse',\n",
    "'Trazer-me o céu de lisboa',\n",
    "'No desenho que fizesse',\n",
    "'Nesse céu onde o olhar',\n",
    "'É uma asa que nao voa',\n",
    "'Esmorece e cai no mar',\n",
    "'Que perfeito coração',\n",
    "'No meu peito bateria',\n",
    "'Meu amor na tua mão',\n",
    "'Nessa mão onde cabia',\n",
    "'Perfeito o meu coração']"
   ]
  },
  {
   "cell_type": "code",
   "execution_count": 192,
   "metadata": {},
   "outputs": [
    {
     "data": {
      "text/plain": [
       "11"
      ]
     },
     "execution_count": 192,
     "metadata": {},
     "output_type": "execute_result"
    }
   ],
   "source": [
    "len(corpus)"
   ]
  },
  {
   "cell_type": "code",
   "execution_count": 193,
   "metadata": {},
   "outputs": [],
   "source": [
    "cv = CountVectorizer().fit(corpus)\n"
   ]
  },
  {
   "cell_type": "code",
   "execution_count": 194,
   "metadata": {},
   "outputs": [
    {
     "name": "stdout",
     "output_type": "stream",
     "text": [
      "33\n",
      "{'se': 27, 'uma': 30, 'gaivota': 11, 'viesse': 31, 'trazer': 28, 'me': 14, 'céu': 6, 'de': 7, 'lisboa': 12, 'no': 21, 'desenho': 8, 'que': 26, 'fizesse': 10, 'nesse': 20, 'onde': 23, 'olhar': 22, 'asa': 1, 'nao': 18, 'voa': 32, 'esmorece': 9, 'cai': 4, 'mar': 13, 'perfeito': 25, 'coração': 5, 'meu': 15, 'peito': 24, 'bateria': 2, 'amor': 0, 'na': 17, 'tua': 29, 'mão': 16, 'nessa': 19, 'cabia': 3}\n"
     ]
    }
   ],
   "source": [
    "vocab = cv.vocabulary_\n",
    "print(len(vocab))\n",
    "print(vocab)"
   ]
  },
  {
   "cell_type": "code",
   "execution_count": 195,
   "metadata": {},
   "outputs": [],
   "source": [
    "vocab = {k: v for k, v in sorted(vocab.items(),key=lambda item: item[1])}"
   ]
  },
  {
   "cell_type": "code",
   "execution_count": 196,
   "metadata": {},
   "outputs": [
    {
     "name": "stdout",
     "output_type": "stream",
     "text": [
      "{'amor': 0, 'asa': 1, 'bateria': 2, 'cabia': 3, 'cai': 4, 'coração': 5, 'céu': 6, 'de': 7, 'desenho': 8, 'esmorece': 9, 'fizesse': 10, 'gaivota': 11, 'lisboa': 12, 'mar': 13, 'me': 14, 'meu': 15, 'mão': 16, 'na': 17, 'nao': 18, 'nessa': 19, 'nesse': 20, 'no': 21, 'olhar': 22, 'onde': 23, 'peito': 24, 'perfeito': 25, 'que': 26, 'se': 27, 'trazer': 28, 'tua': 29, 'uma': 30, 'viesse': 31, 'voa': 32}\n"
     ]
    }
   ],
   "source": [
    "print(vocab)"
   ]
  },
  {
   "cell_type": "code",
   "execution_count": 197,
   "metadata": {},
   "outputs": [],
   "source": [
    "vocab2 = {value: key for key,value in vocab.items()}"
   ]
  },
  {
   "cell_type": "code",
   "execution_count": 198,
   "metadata": {},
   "outputs": [
    {
     "name": "stdout",
     "output_type": "stream",
     "text": [
      "{0: 'amor', 1: 'asa', 2: 'bateria', 3: 'cabia', 4: 'cai', 5: 'coração', 6: 'céu', 7: 'de', 8: 'desenho', 9: 'esmorece', 10: 'fizesse', 11: 'gaivota', 12: 'lisboa', 13: 'mar', 14: 'me', 15: 'meu', 16: 'mão', 17: 'na', 18: 'nao', 19: 'nessa', 20: 'nesse', 21: 'no', 22: 'olhar', 23: 'onde', 24: 'peito', 25: 'perfeito', 26: 'que', 27: 'se', 28: 'trazer', 29: 'tua', 30: 'uma', 31: 'viesse', 32: 'voa'}\n"
     ]
    }
   ],
   "source": [
    "print(vocab2)"
   ]
  },
  {
   "cell_type": "code",
   "execution_count": 199,
   "metadata": {},
   "outputs": [
    {
     "name": "stdout",
     "output_type": "stream",
     "text": [
      "[[0 0 0 0 0 0 0 0 0 0 0 1 0 0 0 0 0 0 0 0 0 0 0 0 0 0 0 1 0 0 1 1 0]\n",
      " [0 0 0 0 0 0 1 1 0 0 0 0 1 0 1 0 0 0 0 0 0 0 0 0 0 0 0 0 1 0 0 0 0]\n",
      " [0 0 0 0 0 0 0 0 1 0 1 0 0 0 0 0 0 0 0 0 0 1 0 0 0 0 1 0 0 0 0 0 0]\n",
      " [0 0 0 0 0 0 1 0 0 0 0 0 0 0 0 0 0 0 0 0 1 0 1 1 0 0 0 0 0 0 0 0 0]\n",
      " [0 1 0 0 0 0 0 0 0 0 0 0 0 0 0 0 0 0 1 0 0 0 0 0 0 0 1 0 0 0 1 0 1]\n",
      " [0 0 0 0 1 0 0 0 0 1 0 0 0 1 0 0 0 0 0 0 0 1 0 0 0 0 0 0 0 0 0 0 0]\n",
      " [0 0 0 0 0 1 0 0 0 0 0 0 0 0 0 0 0 0 0 0 0 0 0 0 0 1 1 0 0 0 0 0 0]\n",
      " [0 0 1 0 0 0 0 0 0 0 0 0 0 0 0 1 0 0 0 0 0 1 0 0 1 0 0 0 0 0 0 0 0]\n",
      " [1 0 0 0 0 0 0 0 0 0 0 0 0 0 0 1 1 1 0 0 0 0 0 0 0 0 0 0 0 1 0 0 0]\n",
      " [0 0 0 1 0 0 0 0 0 0 0 0 0 0 0 0 1 0 0 1 0 0 0 1 0 0 0 0 0 0 0 0 0]\n",
      " [0 0 0 0 0 1 0 0 0 0 0 0 0 0 0 1 0 0 0 0 0 0 0 0 0 1 0 0 0 0 0 0 0]]\n"
     ]
    }
   ],
   "source": [
    "X = cv.transform(corpus)\n",
    "print(X.toarray())"
   ]
  },
  {
   "cell_type": "code",
   "execution_count": 200,
   "metadata": {},
   "outputs": [
    {
     "name": "stdout",
     "output_type": "stream",
     "text": [
      "[1 1 1 1 1 2 2 1 1 1 1 1 1 1 1 3 2 1 1 1 1 3 1 2 1 2 3 1 1 1 2 1 1]\n"
     ]
    }
   ],
   "source": [
    "count =(np.sum(X.toarray(),axis=0))\n",
    "print(count)"
   ]
  },
  {
   "cell_type": "code",
   "execution_count": 201,
   "metadata": {},
   "outputs": [
    {
     "name": "stdout",
     "output_type": "stream",
     "text": [
      "0 amor 1\n",
      "1 asa 1\n",
      "2 bateria 1\n",
      "3 cabia 1\n",
      "4 cai 1\n",
      "5 coração 2\n",
      "6 céu 2\n",
      "7 de 1\n",
      "8 desenho 1\n",
      "9 esmorece 1\n",
      "10 fizesse 1\n",
      "11 gaivota 1\n",
      "12 lisboa 1\n",
      "13 mar 1\n",
      "14 me 1\n",
      "15 meu 3\n",
      "16 mão 2\n",
      "17 na 1\n",
      "18 nao 1\n",
      "19 nessa 1\n",
      "20 nesse 1\n",
      "21 no 3\n",
      "22 olhar 1\n",
      "23 onde 2\n",
      "24 peito 1\n",
      "25 perfeito 2\n",
      "26 que 3\n",
      "27 se 1\n",
      "28 trazer 1\n",
      "29 tua 1\n",
      "30 uma 2\n",
      "31 viesse 1\n",
      "32 voa 1\n"
     ]
    }
   ],
   "source": [
    "for i in range(33):\n",
    "    print(i, vocab2[i],count[i])"
   ]
  },
  {
   "cell_type": "code",
   "execution_count": 202,
   "metadata": {},
   "outputs": [],
   "source": [
    "from sklearn.feature_extraction.text import TfidfTransformer, TfidfVectorizer, CountVectorizer"
   ]
  },
  {
   "cell_type": "code",
   "execution_count": 203,
   "metadata": {},
   "outputs": [
    {
     "name": "stdout",
     "output_type": "stream",
     "text": [
      "Se uma gaivota viesse\n",
      "Trazer-me o céu de lisboa\n",
      "No desenho que fizesse\n",
      "Nesse céu onde o olhar\n",
      "É uma asa que nao voa\n",
      "Esmorece e cai no mar\n",
      "Que perfeito coração\n",
      "No meu peito bateria\n",
      "Meu amor na tua mão\n",
      "Nessa mão onde cabia\n",
      "Perfeito o meu coração\n"
     ]
    }
   ],
   "source": [
    "for v in corpus:\n",
    "    print(v)"
   ]
  },
  {
   "cell_type": "code",
   "execution_count": 204,
   "metadata": {},
   "outputs": [
    {
     "name": "stdout",
     "output_type": "stream",
     "text": [
      "[[0 0 0 0 0 0 0 0 0 0 0 1 0 0 0 0 0 0 0 0 0 0 0 0 0 0 0 1 0 0 1 1 0]\n",
      " [0 0 0 0 0 0 1 1 0 0 0 0 1 0 1 0 0 0 0 0 0 0 0 0 0 0 0 0 1 0 0 0 0]\n",
      " [0 0 0 0 0 0 0 0 1 0 1 0 0 0 0 0 0 0 0 0 0 1 0 0 0 0 1 0 0 0 0 0 0]\n",
      " [0 0 0 0 0 0 1 0 0 0 0 0 0 0 0 0 0 0 0 0 1 0 1 1 0 0 0 0 0 0 0 0 0]\n",
      " [0 1 0 0 0 0 0 0 0 0 0 0 0 0 0 0 0 0 1 0 0 0 0 0 0 0 1 0 0 0 1 0 1]\n",
      " [0 0 0 0 1 0 0 0 0 1 0 0 0 1 0 0 0 0 0 0 0 1 0 0 0 0 0 0 0 0 0 0 0]\n",
      " [0 0 0 0 0 1 0 0 0 0 0 0 0 0 0 0 0 0 0 0 0 0 0 0 0 1 1 0 0 0 0 0 0]\n",
      " [0 0 1 0 0 0 0 0 0 0 0 0 0 0 0 1 0 0 0 0 0 1 0 0 1 0 0 0 0 0 0 0 0]\n",
      " [1 0 0 0 0 0 0 0 0 0 0 0 0 0 0 1 1 1 0 0 0 0 0 0 0 0 0 0 0 1 0 0 0]\n",
      " [0 0 0 1 0 0 0 0 0 0 0 0 0 0 0 0 1 0 0 1 0 0 0 1 0 0 0 0 0 0 0 0 0]\n",
      " [0 0 0 0 0 1 0 0 0 0 0 0 0 0 0 1 0 0 0 0 0 0 0 0 0 1 0 0 0 0 0 0 0]]\n",
      "[[0.   0.   0.   0.   0.   0.   0.   0.   0.   0.   0.   0.52 0.   0.\n",
      "  0.   0.   0.   0.   0.   0.   0.   0.   0.   0.   0.   0.   0.   0.52\n",
      "  0.   0.   0.44 0.52 0.  ]\n",
      " [0.   0.   0.   0.   0.   0.   0.39 0.46 0.   0.   0.   0.   0.46 0.\n",
      "  0.46 0.   0.   0.   0.   0.   0.   0.   0.   0.   0.   0.   0.   0.\n",
      "  0.46 0.   0.   0.   0.  ]\n",
      " [0.   0.   0.   0.   0.   0.   0.   0.   0.57 0.   0.57 0.   0.   0.\n",
      "  0.   0.   0.   0.   0.   0.   0.   0.42 0.   0.   0.   0.   0.42 0.\n",
      "  0.   0.   0.   0.   0.  ]\n",
      " [0.   0.   0.   0.   0.   0.   0.46 0.   0.   0.   0.   0.   0.   0.\n",
      "  0.   0.   0.   0.   0.   0.   0.54 0.   0.54 0.46 0.   0.   0.   0.\n",
      "  0.   0.   0.   0.   0.  ]\n",
      " [0.   0.48 0.   0.   0.   0.   0.   0.   0.   0.   0.   0.   0.   0.\n",
      "  0.   0.   0.   0.   0.48 0.   0.   0.   0.   0.   0.   0.   0.36 0.\n",
      "  0.   0.   0.41 0.   0.48]\n",
      " [0.   0.   0.   0.   0.53 0.   0.   0.   0.   0.53 0.   0.   0.   0.53\n",
      "  0.   0.   0.   0.   0.   0.   0.   0.4  0.   0.   0.   0.   0.   0.\n",
      "  0.   0.   0.   0.   0.  ]\n",
      " [0.   0.   0.   0.   0.   0.6  0.   0.   0.   0.   0.   0.   0.   0.\n",
      "  0.   0.   0.   0.   0.   0.   0.   0.   0.   0.   0.   0.6  0.53 0.\n",
      "  0.   0.   0.   0.   0.  ]\n",
      " [0.   0.   0.57 0.   0.   0.   0.   0.   0.   0.   0.   0.   0.   0.\n",
      "  0.   0.42 0.   0.   0.   0.   0.   0.42 0.   0.   0.57 0.   0.   0.\n",
      "  0.   0.   0.   0.   0.  ]\n",
      " [0.48 0.   0.   0.   0.   0.   0.   0.   0.   0.   0.   0.   0.   0.\n",
      "  0.   0.36 0.41 0.48 0.   0.   0.   0.   0.   0.   0.   0.   0.   0.\n",
      "  0.   0.48 0.   0.   0.  ]\n",
      " [0.   0.   0.   0.54 0.   0.   0.   0.   0.   0.   0.   0.   0.   0.\n",
      "  0.   0.   0.46 0.   0.   0.54 0.   0.   0.   0.46 0.   0.   0.   0.\n",
      "  0.   0.   0.   0.   0.  ]\n",
      " [0.   0.   0.   0.   0.   0.6  0.   0.   0.   0.   0.   0.   0.   0.\n",
      "  0.   0.53 0.   0.   0.   0.   0.   0.   0.   0.   0.   0.6  0.   0.\n",
      "  0.   0.   0.   0.   0.  ]]\n"
     ]
    }
   ],
   "source": [
    "cv = CountVectorizer().fit(corpus)\n",
    "X = cv.transform(corpus)\n",
    "tfidf = TfidfTransformer().fit(X)\n",
    "X2 = tfidf.transform(X).toarray()\n",
    "print(X.toarray())\n",
    "print(np.round(X2,2))"
   ]
  },
  {
   "cell_type": "code",
   "execution_count": 205,
   "metadata": {},
   "outputs": [
    {
     "data": {
      "text/plain": [
       "array([1., 1., 1., 1., 1., 1., 1., 1., 1., 1., 1.])"
      ]
     },
     "execution_count": 205,
     "metadata": {},
     "output_type": "execute_result"
    }
   ],
   "source": [
    "np.sum(X2**2,axis=1)"
   ]
  },
  {
   "cell_type": "code",
   "execution_count": 206,
   "metadata": {},
   "outputs": [],
   "source": [
    "tfidf = TfidfVectorizer().fit(corpus)\n",
    "X3 = tfidf.transform(corpus).toarray()"
   ]
  },
  {
   "cell_type": "code",
   "execution_count": 207,
   "metadata": {},
   "outputs": [
    {
     "name": "stdout",
     "output_type": "stream",
     "text": [
      "[[0.         0.         0.         0.         0.        ]\n",
      " [0.         0.         0.         0.         0.        ]\n",
      " [0.         0.         0.         0.         0.        ]\n",
      " [0.         0.         0.         0.         0.        ]\n",
      " [0.         0.48248419 0.         0.         0.        ]\n",
      " [0.         0.         0.         0.         0.52962134]\n",
      " [0.         0.         0.         0.         0.        ]\n",
      " [0.         0.         0.56521933 0.         0.        ]\n",
      " [0.48248419 0.         0.         0.         0.        ]\n",
      " [0.         0.         0.         0.5375069  0.        ]\n",
      " [0.         0.         0.         0.         0.        ]]\n"
     ]
    }
   ],
   "source": [
    "print(X2[:,:5])"
   ]
  },
  {
   "cell_type": "code",
   "execution_count": 208,
   "metadata": {},
   "outputs": [
    {
     "name": "stdout",
     "output_type": "stream",
     "text": [
      "[[0.         0.         0.         0.         0.        ]\n",
      " [0.         0.         0.         0.         0.        ]\n",
      " [0.         0.         0.         0.         0.        ]\n",
      " [0.         0.         0.         0.         0.        ]\n",
      " [0.         0.48248419 0.         0.         0.        ]\n",
      " [0.         0.         0.         0.         0.52962134]\n",
      " [0.         0.         0.         0.         0.        ]\n",
      " [0.         0.         0.56521933 0.         0.        ]\n",
      " [0.48248419 0.         0.         0.         0.        ]\n",
      " [0.         0.         0.         0.5375069  0.        ]\n",
      " [0.         0.         0.         0.         0.        ]]\n"
     ]
    }
   ],
   "source": [
    "print(X3[:,:5])"
   ]
  },
  {
   "cell_type": "code",
   "execution_count": 209,
   "metadata": {},
   "outputs": [],
   "source": [
    "from sklearn.datasets import load_files\n",
    "import re\n",
    "D = load_files('aclImdb/train/')"
   ]
  },
  {
   "cell_type": "code",
   "execution_count": 210,
   "metadata": {},
   "outputs": [
    {
     "name": "stdout",
     "output_type": "stream",
     "text": [
      "25000\n"
     ]
    }
   ],
   "source": [
    "Docs = D.data\n",
    "y = D.target\n",
    "fNames = D.filenames\n",
    "print(len(Docs))"
   ]
  },
  {
   "cell_type": "code",
   "execution_count": 211,
   "metadata": {},
   "outputs": [
    {
     "name": "stdout",
     "output_type": "stream",
     "text": [
      "74849\n"
     ]
    }
   ],
   "source": [
    "tfidf = TfidfVectorizer().fit(Docs)\n",
    "tokens = tfidf.get_feature_names_out()\n",
    "print(len(tokens))"
   ]
  },
  {
   "cell_type": "code",
   "execution_count": 212,
   "metadata": {},
   "outputs": [],
   "source": [
    "Docs = [doc.decode('UTF-8') for doc in Docs]\n",
    "Docs = [doc.replace('<br />', ' ') for doc in Docs]\n",
    "Docs = [re.sub(r'[^a-zA-Z\\u00C0-\\u00FF]+', ' ', doc) for doc in Docs]"
   ]
  },
  {
   "cell_type": "code",
   "execution_count": 213,
   "metadata": {},
   "outputs": [
    {
     "name": "stdout",
     "output_type": "stream",
     "text": [
      "35122\n"
     ]
    }
   ],
   "source": [
    "tfidf = TfidfVectorizer(min_df=3, token_pattern=r'\\b\\w\\w\\w+\\b').fit(Docs)\n",
    "tokens = tfidf.get_feature_names_out()\n",
    "print(len(tokens))"
   ]
  },
  {
   "cell_type": "code",
   "execution_count": 214,
   "metadata": {},
   "outputs": [],
   "source": [
    "from nltk.stem import PorterStemmer\n",
    "stemFunc = PorterStemmer()\n",
    "voc = tfidf.get_feature_names_out()\n",
    "voc2 = [stemFunc.stem(w) for w in voc]\n"
   ]
  },
  {
   "cell_type": "code",
   "execution_count": 215,
   "metadata": {},
   "outputs": [
    {
     "name": "stdout",
     "output_type": "stream",
     "text": [
      "23220\n"
     ]
    }
   ],
   "source": [
    "Docs2 = [' '.join([stemFunc.stem(w) for w in d.split()]) for d in Docs]\n",
    "\n",
    "tfidf = TfidfVectorizer(min_df=3, token_pattern=r'\\b\\w\\w\\w+\\b').fit(Docs2)\n",
    "tokens = tfidf.get_feature_names_out()\n",
    "print(len(tokens))"
   ]
  },
  {
   "cell_type": "code",
   "execution_count": 216,
   "metadata": {},
   "outputs": [
    {
     "name": "stdout",
     "output_type": "stream",
     "text": [
      "22874\n"
     ]
    }
   ],
   "source": [
    "from nltk.stem import SnowballStemmer\n",
    "stemFunc = SnowballStemmer(language='english')\n",
    "Docs3 = [' '.join([stemFunc.stem(w) for w in d.split()]) for d in Docs]\n",
    "\n",
    "tfidf2 = TfidfVectorizer(min_df=3, token_pattern=r'\\b\\w\\w\\w+\\b').fit(Docs3)\n",
    "tokens2 = tfidf2.get_feature_names_out()\n",
    "print(len(tokens2))\n"
   ]
  },
  {
   "cell_type": "code",
   "execution_count": 217,
   "metadata": {},
   "outputs": [
    {
     "name": "stdout",
     "output_type": "stream",
     "text": [
      "18959\n"
     ]
    }
   ],
   "source": [
    "from nltk.stem import LancasterStemmer\n",
    "stemFunc = LancasterStemmer()\n",
    "Docs4 = [' '.join([stemFunc.stem(w) for w in d.split()]) for d in Docs]\n",
    "\n",
    "tfidf3 = TfidfVectorizer(min_df=3, token_pattern=r'\\b\\w\\w\\w+\\b').fit(Docs4)\n",
    "tokens3 = tfidf3.get_feature_names_out()\n",
    "print(len(tokens3))\n"
   ]
  },
  {
   "cell_type": "code",
   "execution_count": 218,
   "metadata": {},
   "outputs": [
    {
     "name": "stdout",
     "output_type": "stream",
     "text": [
      "(25000, 18959) <class 'scipy.sparse._csr.csr_matrix'>\n"
     ]
    }
   ],
   "source": [
    "X = tfidf3.transform(Docs4)\n",
    "print(X.shape,type(X))"
   ]
  },
  {
   "cell_type": "code",
   "execution_count": 219,
   "metadata": {},
   "outputs": [
    {
     "name": "stdout",
     "output_type": "stream",
     "text": [
      "['pokemon', 'dalm', 'libr', 'doodlebop', 'smallvil', 'scan', 'lupin', 'woo', 'sasquatch', 'wei', 'stev', 'darkm', 'colombo', 'zatoich', 'botch', 'demon', 'rap', 'muppet', 'bye', 'columbo', 'kibbutz', 'rajn', 'gadget', 'lennon', 'dari', 'ranm', 'naschy', 'melt', 'surf', 'seag', 'blah', 'dahm', 'grun', 'beetl', 'winfield', 'cyph', 'hackenstein', 'django', 'creasy', 'puppet', 'joan', 'othello', 'worm', 'gundam', 'noriko', 'suck', 'bird', 'camp', 'hanzo', 'zizek', 'dracul', 'hallam', 'scarecrow', 'zack', 'serb', 'gaur', 'genov', 'woody', 'gamer', 'pau', 'zomb', 'beatl', 'bruc', 'biko', 'keaton', 'alvin', 'cavem', 'leonor', 'oprah', 'khour', 'brend', 'pie', 'chib', 'elvir', 'solino', 'gandh', 'tan', 'rees', 'mordrid', 'gujarat', 'mindy', 'anny', 'karloff', 'montand', 'pia', 'lundgr', 'dent', 'menc', 'edy', 'gershon', 'indones', 'cognac', 'batm', 'modesty', 'kyl', 'tobacco', 'cordel', 'sarno', 'sandr', 'melind']\n"
     ]
    }
   ],
   "source": [
    "xM = np.max(X,axis=0).toarray().squeeze()\n",
    "idx = np.argsort(-xM)\n",
    "voc = [tokens3[i] for i in idx]\n",
    "print(voc[:100])"
   ]
  },
  {
   "cell_type": "code",
   "execution_count": 220,
   "metadata": {},
   "outputs": [
    {
     "name": "stdout",
     "output_type": "stream",
     "text": [
      "['pokemon', 'scanners', 'steve', 'doodlebops', 'demons', 'casper', 'sasquatch', 'smallville', 'darkman', 'xica', 'weller', 'sucks', 'zatoichi', 'lennon', 'botched', 'gadget', 'worms', 'cypher', 'naschy', 'ants', 'janeane', 'blah', 'priya', 'muppet', 'joan', 'tanner', 'lexi', 'hackenstein', 'othello', 'seagal', 'gamera', 'zizek', 'alvin', 'brendan', 'khouri', 'pack', 'beatles', 'ranma', 'chiba', 'darius', 'wrestlemania', 'flea', 'karloff', 'dentist', 'gruner', 'paulie', 'hanzo', 'oprah', 'elvira', 'montand', 'bruce', 'zombi', 'keaton', 'camp', 'winfield', 'dahmer', 'coop', 'django', 'stefan', 'columbo', 'sissy', 'beetle', 'blob', 'sandra', 'batman', 'azumi', 'britney', 'gershon', 'hulk', 'macarthur', 'reese', 'kusturica', 'kornbluth', 'ichi', 'annie', 'zack', 'pusser', 'gundam', 'mordrid', 'dracula', 'mary', 'mindy', 'dillinger', 'jill', 'librarians', 'danish', 'scarecrows', 'biko', 'nerd', 'program', 'lundgren', 'edie', 'chen', 'shearer', 'moto', 'sniper', 'scooby', 'nacho', 'gerry', 'julian']\n"
     ]
    }
   ],
   "source": [
    "Docs = D.data\n",
    "Docs = [doc.decode('UTF-8') for doc in Docs]\n",
    "Docs = [doc.replace('<br />', ' ') for doc in Docs]\n",
    "Docs = [re.sub(r'[^a-zA-Z\\u00C0-\\u00FF]+', ' ', doc) for doc in Docs]\n",
    "tfidf = TfidfVectorizer(min_df=5, token_pattern=r'\\b\\w\\w\\w\\w+\\b').fit(Docs)\n",
    "tokens = tfidf.get_feature_names_out()\n",
    "X = tfidf.transform(Docs)\n",
    "xM = np.max(X,axis=0).toarray().squeeze()\n",
    "idx = np.argsort(-xM)\n",
    "voc = [tokens[i] for i in idx]\n",
    "print(voc[:100])"
   ]
  },
  {
   "cell_type": "code",
   "execution_count": 221,
   "metadata": {},
   "outputs": [
    {
     "name": "stdout",
     "output_type": "stream",
     "text": [
      "['generously', 'characteristically', 'unrepentant', 'lenin', 'eyewitness', 'outcry', 'utilised', 'purveyor', 'labourer', 'skinning', 'trots', 'quip', 'disclose', 'sagas', 'conjures', 'bourbon', 'confiscated', 'perched', 'unsavoury', 'unwisely', 'lifeboats', 'nursed', 'dubs', 'confessing', 'tanovic', 'peculiarly', 'empowered', 'confides', 'assassinates', 'jurisdiction', 'unlocked', 'unspectacular', 'squash', 'plunder', 'bibles', 'enlisting', 'cineplex', 'negotiate', 'radiating', 'sharpshooter', 'britons', 'annihilated', 'deportation', 'extravaganzas', 'collier', 'tellingly', 'père', 'levene', 'usefulness', 'amplify', 'leverage', 'decayed', 'melchior', 'patrolman', 'swells', 'basking', 'denim', 'mistreatment', 'ancestral', 'reverting', 'temperamental', 'confidante', 'immunity', 'subtracted', 'inciting', 'administered', 'ralli', 'distort', 'roughing', 'slyly', 'southampton', 'nyree', 'vertical', 'alloy', 'orientated', 'spacious', 'pressuring', 'backfire', 'attained', 'manically', 'booed', 'mclaughlin', 'livelier', 'gliding', 'sylvain', 'auspicious', 'inconsiderate', 'ware', 'galadriel', 'coaxing', 'oncoming', 'uphold', 'oversee', 'cataclysmic', 'hypocrites', 'thieving', 'emerald', 'songwriting', 'gauche', 'suplexes']\n"
     ]
    }
   ],
   "source": [
    "print(voc[-100:])"
   ]
  },
  {
   "cell_type": "code",
   "execution_count": 222,
   "metadata": {},
   "outputs": [
    {
     "name": "stdout",
     "output_type": "stream",
     "text": [
      "['this', 'that', 'with', 'movie', 'have', 'film', 'from', 'like', 'they', 'there', 'just', 'about', 'what', 'some', 'good', 'more', 'when', 'time', 'very', 'even', 'only', 'would', 'really', 'story', 'which', 'well', 'than', 'much', 'their', 'were', 'other', 'been', 'most', 'also', 'into', 'first', 'made', 'great', 'because', 'will', 'people', 'make', 'could', 'after', 'then', 'them', 'watch', 'think', 'acting', 'movies', 'seen', 'characters', 'many', 'plot', 'being', 'never', 'best', 'little', 'character', 'ever', 'know', 'where', 'over', 'better', 'life', 'films', 'does', 'love', 'still', 'here', 'your', 'these', 'while', 'should', 'something', 'such', 'through', 'back', 'scenes', 'watching', 'scene', 'those', 'thing', 'real', 'years', 'doesn', 'actors', 'another', 'before', 'though', 'director', 'makes', 'work', 'didn', 'look', 'actually', 'nothing', 'find', 'going', 'show']\n"
     ]
    }
   ],
   "source": [
    "idf = tfidf.idf_\n",
    "idx = np.argsort(idf)\n",
    "voc = [tokens[i] for i in idx]\n",
    "print(voc[:100])"
   ]
  },
  {
   "cell_type": "code",
   "execution_count": 223,
   "metadata": {},
   "outputs": [],
   "source": [
    "import numpy as np\n",
    "from sklearn.datasets import load_files\n",
    "from sklearn.feature_extraction.text import TfidfVectorizer\n",
    "import re\n",
    "from nltk.stem import SnowballStemmer\n",
    "\n",
    "# stemFunc = SnowballStemmer(language='english')\n",
    "\n",
    "D = load_files('aclImdb/train/')\n",
    "Docs1 = D.data\n",
    "y1 = D.target\n",
    "\n",
    "D = load_files('aclImdb/test/')\n",
    "Docs2 = D.data\n",
    "y2 = D.target\n",
    "\n",
    "Docs1=[doc.decode('UTF-8') for doc in Docs1]\n",
    "Docs1=[doc.replace('<br />',' ') for doc in Docs1]\n",
    "Docs1=[re.sub(r'[^a-zA-Z\\u00C0-\\u00FF]+',' ',doc) for doc in Docs1]\n",
    "#Docs1=[' '.join([stemFunc.stem(w) for w in d.split()]) for d in Docs1]\n",
    "tfidf=TfidfVectorizer(min_df=5,token_pattern=r'\\b\\w\\w\\w\\w+\\b').fit(Docs1)\n",
    "X1=tfidf.transform(Docs1)\n",
    "\n",
    "Docs2=[doc.decode('UTF-8') for doc in Docs2]\n",
    "Docs2=[doc.replace('<br />',' ') for doc in Docs2]\n",
    "Docs2=[re.sub(r'[^a-zA-Z\\u00C0-\\u00FF]+',' ',doc) for doc in Docs2]\n",
    "#Docs2=[' '.join([stemFunc.stem(w) for w in d.split()]) for d in Docs2]\n",
    "X2=tfidf.transform(Docs2)\n"
   ]
  },
  {
   "cell_type": "code",
   "execution_count": 224,
   "metadata": {},
   "outputs": [
    {
     "data": {
      "text/plain": [
       "(25000, 25871)"
      ]
     },
     "execution_count": 224,
     "metadata": {},
     "output_type": "execute_result"
    }
   ],
   "source": [
    "X2.shape"
   ]
  },
  {
   "cell_type": "code",
   "execution_count": 225,
   "metadata": {},
   "outputs": [
    {
     "name": "stdout",
     "output_type": "stream",
     "text": [
      "0.91432\n",
      "0.87932\n"
     ]
    }
   ],
   "source": [
    "from sklearn.linear_model import LogisticRegression\n",
    "\n",
    "dl = LogisticRegression(penalty='l2',max_iter=1000,C=1,tol=1e-3)\n",
    "dl.fit(X1,y1)\n",
    "print(dl.score(X1,y1))\n",
    "print(dl.score(X2,y2))"
   ]
  },
  {
   "cell_type": "code",
   "execution_count": 229,
   "metadata": {},
   "outputs": [
    {
     "name": "stdout",
     "output_type": "stream",
     "text": [
      "['worst', 'awful', 'waste', 'boring', 'poor', 'terrible', 'nothing', 'worse', 'horrible', 'script', 'stupid', 'poorly', 'dull', 'unfortunately', 'annoying', 'minutes', 'ridiculous', 'even', 'supposed', 'instead', 'avoid', 'money', 'lame', 'badly', 'fails', 'crap', 'save', 'mess', 'disappointing', 'only', 'disappointment', 'pointless', 'plot', 'acting', 'attempt', 'predictable', 'wasted', 'unless', 'reason', 'weak', 'just', 'idea', 'looks', 'would', 'pathetic', 'least', 'half', 'laughable', 'couldn', 'tries']\n",
      "\n",
      " ---------------------------------------------------------------------------------------------------- \n",
      "\n",
      "['moving', 'wonderfully', 'more', 'recommended', 'unique', 'awesome', 'most', 'life', 'masterpiece', 'perfectly', 'incredible', 'simple', 'shows', 'entertaining', 'true', 'funniest', 'rare', 'always', 'especially', 'enjoyable', 'hilarious', 'makes', 'classic', 'will', 'seen', 'heart', 'both', 'world', 'liked', 'enjoy', 'also', 'fantastic', 'superb', 'definitely', 'beautiful', 'still', 'highly', 'brilliant', 'today', 'enjoyed', 'love', 'favorite', 'loved', 'well', 'amazing', 'perfect', 'wonderful', 'best', 'excellent', 'great']\n"
     ]
    }
   ],
   "source": [
    "w = dl.coef_\n",
    "idx = np.argsort(w).squeeze()\n",
    "voc = tfidf.get_feature_names_out()\n",
    "voc2 = [voc[i] for i in idx]\n",
    "print(voc2[:50])\n",
    "print('\\n','-'*100,'\\n')\n",
    "print(voc2[-50:])"
   ]
  },
  {
   "cell_type": "code",
   "execution_count": 231,
   "metadata": {},
   "outputs": [
    {
     "name": "stdout",
     "output_type": "stream",
     "text": [
      "176\n"
     ]
    },
    {
     "data": {
      "image/png": "[encoded data removed]",
      "text/plain": [
       "<Figure size 640x480 with 1 Axes>"
      ]
     },
     "metadata": {},
     "output_type": "display_data"
    }
   ],
   "source": [
    "w = w.squeeze()\n",
    "plt.plot(w)\n",
    "print(np.sum(np.abs(w)<=1e-3))"
   ]
  },
  {
   "cell_type": "markdown",
   "metadata": {},
   "source": [
    "### Lasso   "
   ]
  },
  {
   "cell_type": "code",
   "execution_count": 239,
   "metadata": {},
   "outputs": [
    {
     "name": "stdout",
     "output_type": "stream",
     "text": [
      "0.89828\n",
      "0.8728\n"
     ]
    }
   ],
   "source": [
    "from sklearn.linear_model import LogisticRegression\n",
    "\n",
    "dl = LogisticRegression(penalty='l1',solver='saga',max_iter=1000,C=1,tol=1e-3)\n",
    "dl.fit(X1,y1)\n",
    "print(dl.score(X1,y1))\n",
    "print(dl.score(X2,y2))"
   ]
  },
  {
   "cell_type": "code",
   "execution_count": 240,
   "metadata": {},
   "outputs": [
    {
     "name": "stdout",
     "output_type": "stream",
     "text": [
      "1097\n",
      "['worst', 'waste', 'awful', 'poorly', 'disappointment', 'boring', 'fails', 'dull', 'worse', 'pointless', 'horrible', 'mess', 'poor', 'disappointing', 'unfunny', 'lacks', 'terrible', 'avoid', 'laughable', 'annoying', 'badly', 'unfortunately', 'ridiculous', 'forgettable', 'nothing', 'save', 'redeeming', 'lame', 'wooden', 'supposed', 'unless', 'instead', 'lousy', 'script', 'mediocre', 'mildly', 'pathetic', 'weak', 'dreadful', 'wonder', 'insult', 'basically', 'baldwin', 'stupid', 'obnoxious', 'tedious', 'uninteresting', 'predictable', 'incoherent', 'minutes']\n",
      "\n",
      " ---------------------------------------------------------------------------------------------------- \n",
      "\n",
      "['atmosphere', 'surprised', 'captures', 'heart', 'powerful', 'fascinating', 'world', 'also', 'delightful', 'simple', 'enjoy', 'outstanding', 'still', 'masterpiece', 'unique', 'hilarious', 'love', 'entertaining', 'liked', 'surprisingly', 'moving', 'well', 'beautiful', 'touching', 'funniest', 'beautifully', 'finest', 'incredible', 'enjoyed', 'perfectly', 'definitely', 'noir', 'subtle', 'enjoyable', 'highly', 'loved', 'fantastic', 'today', 'brilliant', 'superb', 'favorite', 'rare', 'refreshing', 'best', 'amazing', 'wonderfully', 'wonderful', 'great', 'perfect', 'excellent']\n"
     ]
    }
   ],
   "source": [
    "w = dl.coef_\n",
    "w = w.squeeze()\n",
    "idx = np.argsort(w)\n",
    "print(np.sum(w!=0))\n",
    "voc = tfidf.get_feature_names_out()\n",
    "voc2 = [voc[i] for i in idx]\n",
    "print(voc2[:50])\n",
    "print('\\n','-'*100,'\\n')\n",
    "print(voc2[-50:])"
   ]
  },
  {
   "cell_type": "markdown",
   "metadata": {},
   "source": [
    "n_gramas"
   ]
  },
  {
   "cell_type": "code",
   "execution_count": 245,
   "metadata": {},
   "outputs": [
    {
     "name": "stdout",
     "output_type": "stream",
     "text": [
      "Dimensão do vocabolario: 203832\n"
     ]
    }
   ],
   "source": [
    "import numpy as np\n",
    "from sklearn.datasets import load_files\n",
    "from sklearn.feature_extraction.text import TfidfVectorizer\n",
    "import re\n",
    "\n",
    "D=load_files('aclImdb/train/')\n",
    "Docs1=D.data\n",
    "y1=D.target\n",
    "\n",
    "D=load_files('aclImdb/test/')\n",
    "Docs2=D.data\n",
    "y2=D.target\n",
    "\n",
    "Docs1=[doc.decode('UTF-8') for doc in Docs1]\n",
    "Docs1=[doc.replace('<br />','') for doc in Docs1]\n",
    "Docs1=[re.sub(r' [^a-zA-Z\\u00C0-\\u00FF]+',' ',doc) for doc in Docs1]\n",
    "tfidf=TfidfVectorizer(min_df=5,ngram_range=(1,4), token_pattern=r'\\b\\w\\w\\w+\\b').fit(Docs1)\n",
    "X1=tfidf.transform(Docs1)\n",
    "\n",
    "Docs2=[doc.decode('UTF-8') for doc in Docs2]\n",
    "Docs2=[doc.replace('<br />','') for doc in Docs2]\n",
    "Docs2=[re.sub(r' [^a-zA-Z\\u00C0-\\u00FF]+',' ',doc) for doc in Docs2]\n",
    "X2=tfidf.transform(Docs2)\n",
    "\n",
    "print('Dimensão do vocabolario:', X1.shape[1])"
   ]
  },
  {
   "cell_type": "code",
   "execution_count": 247,
   "metadata": {},
   "outputs": [
    {
     "name": "stdout",
     "output_type": "stream",
     "text": [
      "['scanners', 'pokemon', 'wei', 'casper', 'dev', 'woo', 'zizek', 'botched', 'xica', 'hackenstein', 'khouri', 'darkman', 'lennon', 'demons', 'smallville', 'shearer', 'tanner', 'othello', 'zatoichi', 'gadget', 'gamera', 'darius', 'naschy', 'beetle', 'coop', 'dahmer', 'kriemhild', 'alvin', 'soha', 'joan', 'stefan', 'basket', 'paulie', 'kyle', 'biko', 'puppet master', 'seagal', 'jill', 'winfield', 'dillinger', 'che', 'macarthur', 'robocop', 'timon', 'dominick', 'lincoln', 'kolchak', 'librarians', 'the doodlebops', 'cypher', 'foo', 'kusturica', 'steve', 'lassie', 'ants', 'muppet', 'kornbluth', 'chiba', 'oprah', 'ranma', 'blank check', 'ripley', 'janeane', 'doodlebops', 'lexi', 'creasy', 'wang', 'homer', 'europa', 'karloff', 'dressler', 'luzhin', 'worms', 'sasquatch', 'weller', 'ichi', 'tobacco', 'raj', 'pierce', 'pack', 'gypo', 'brendan', 'azumi', 'zombi', 'elvira', 'jigsaw', 'modesty', 'mathieu', 'old person', 'bruce', 'morty', 'mindy', 'cheech', 'scarlet', 'gilliam', 'moto', 'gandhi', 'flea', 'wrestlemania', 'more more']\n",
      "Dimensão do vocabulário: 203832\n",
      "Número de uni-gramas: 26734\n",
      "Número de bi-gramas: 110551\n",
      "Número de tri-gramas: 55484\n",
      "Número de quadri-gramas: 11063\n"
     ]
    }
   ],
   "source": [
    "xM = np.max(X1, axis=0).toarray().squeeze()\n",
    "idx = np.argsort(-xM)\n",
    "\n",
    "tokens = tfidf.get_feature_names_out()\n",
    "voc = [tokens[i] for i in idx]\n",
    "\n",
    "print(voc[:100])\n",
    "\n",
    "wC = np.array([len(w.split()) for w in voc])\n",
    "print('Dimensão do vocabulário:', X1.shape[1])\n",
    "\n",
    "print('Número de uni-gramas:', np.sum(wC == 1))\n",
    "print('Número de bi-gramas:', np.sum(wC == 2))\n",
    "print('Número de tri-gramas:', np.sum(wC == 3))\n",
    "print('Número de quadri-gramas:', np.sum(wC == 4))"
   ]
  },
  {
   "cell_type": "code",
   "execution_count": 251,
   "metadata": {},
   "outputs": [
    {
     "name": "stdout",
     "output_type": "stream",
     "text": [
      "0.99616\n",
      "0.88844\n",
      "6729\n",
      "['waste', 'not worth', 'awful', 'worst', 'disappointment', 'poorly', 'boring', 'forgettable', 'laughable', 'lacks', 'mess', 'worse', 'unfunny', 'horrible', 'one the worst', 'disappointing', 'avoid', 'fails', 'poor', 'this film just', 'alright', 'bad', 'the introduction', 'annoying', 'lousy', 'badly', 'baldwin', 'dull', 'pointless', 'save', 'redeeming', 'obnoxious', 'fast forward', 'basically', 'let down', 'the excellent', 'not recommend', 'unfortunately', 'terrible', 'very disappointed', 'not recommended', 'supposed', 'way too', 'had high', 'unwatchable', 'pretentious', 'ridiculous', 'britney', 'than this', 'unconvincing']\n",
      "\n",
      " ---------------------------------------------------------------------------------------------------- \n",
      "\n",
      "['very entertaining', 'even better', 'may not', 'can wait', 'recommended', 'gem', 'surprisingly', 'underrated', 'very good', 'predictable but', 'better but', 'atmosphere', 'subtle', 'must see', 'the movie however', 'love this', 'likable and', 'british comedy', 'captures', 'you only', 'perfect the', 'not disappointed', 'today', 'brilliant', 'loved this', 'favorite', 'kitty', 'whoopi', 'funniest', 'lot things', 'cerebral', 'his way', 'enjoyable', 'flawless', 'wonderful', 'surprisingly good', 'superb', 'amazing', 'great', 'much better than', 'incredible', 'rare', 'evil breed', 'refreshing', 'wonderfully', 'this great', 'well worth', 'perfect', 'excellent', 'definitely worth']\n"
     ]
    }
   ],
   "source": [
    "dl = LogisticRegression(penalty='l1',solver='saga',max_iter=1000,C=10,tol=1e-3)\n",
    "dl.fit(X1,y1)\n",
    "print(dl.score(X1,y1))\n",
    "print(dl.score(X2,y2))\n",
    "w = dl.coef_\n",
    "w = w.squeeze()\n",
    "idx = np.argsort(w)\n",
    "print(np.sum(w!=0))\n",
    "voc = tfidf.get_feature_names_out()\n",
    "voc2 = [voc[i] for i in idx]\n",
    "print(voc2[:50])\n",
    "print('\\n','-'*100,'\\n')\n",
    "print(voc2[-50:])"
   ]
  }
 ],
 "metadata": {
  "kernelspec": {
   "display_name": "Python 3",
   "language": "python",
   "name": "python3"
  },
  "language_info": {
   "codemirror_mode": {
    "name": "ipython",
    "version": 3
   },
   "file_extension": ".py",
   "mimetype": "text/x-python",
   "name": "python",
   "nbconvert_exporter": "python",
   "pygments_lexer": "ipython3",
   "version": "3.12.8"
  }
 },
 "nbformat": 4,
 "nbformat_minor": 2
}
